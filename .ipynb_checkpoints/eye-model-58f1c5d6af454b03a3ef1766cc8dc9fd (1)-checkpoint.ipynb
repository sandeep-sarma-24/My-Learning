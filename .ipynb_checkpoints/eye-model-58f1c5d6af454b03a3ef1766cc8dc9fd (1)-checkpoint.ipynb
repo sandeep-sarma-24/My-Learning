{
 "cells": [
  {
   "cell_type": "markdown",
   "metadata": {
    "id": "cKmMyelNA6uF"
   },
   "source": [
    "## Download images into colab "
   ]
  },
  {
   "cell_type": "code",
   "execution_count": null,
   "metadata": {
    "colab": {
     "base_uri": "https://localhost:8080/"
    },
    "id": "5_1BysB4Re7f",
    "outputId": "5376effa-4dc4-4e9b-ddc8-266b83417513"
   },
   "outputs": [],
   "source": []
  },
  {
   "cell_type": "markdown",
   "metadata": {
    "id": "mDU7z-Q5BKkG"
   },
   "source": [
    "## Import libraries"
   ]
  },
  {
   "cell_type": "code",
   "execution_count": 2,
   "metadata": {
    "id": "BIe16kmoUmhr"
   },
   "outputs": [
    {
     "ename": "ModuleNotFoundError",
     "evalue": "No module named 'pandas'",
     "output_type": "error",
     "traceback": [
      "\u001b[1;31m---------------------------------------------------------------------------\u001b[0m",
      "\u001b[1;31mModuleNotFoundError\u001b[0m                       Traceback (most recent call last)",
      "Input \u001b[1;32mIn [2]\u001b[0m, in \u001b[0;36m<cell line: 1>\u001b[1;34m()\u001b[0m\n\u001b[1;32m----> 1\u001b[0m \u001b[38;5;28;01mimport\u001b[39;00m \u001b[38;5;21;01mpandas\u001b[39;00m \u001b[38;5;28;01mas\u001b[39;00m \u001b[38;5;21;01mpd\u001b[39;00m                                     \n\u001b[0;32m      2\u001b[0m \u001b[38;5;28;01mimport\u001b[39;00m \u001b[38;5;21;01mnumpy\u001b[39;00m \u001b[38;5;28;01mas\u001b[39;00m \u001b[38;5;21;01mnp\u001b[39;00m                                      \n\u001b[0;32m      3\u001b[0m \u001b[38;5;28;01mimport\u001b[39;00m \u001b[38;5;21;01mtensorflow\u001b[39;00m \u001b[38;5;28;01mas\u001b[39;00m \u001b[38;5;21;01mtf\u001b[39;00m                                 \n",
      "\u001b[1;31mModuleNotFoundError\u001b[0m: No module named 'pandas'"
     ]
    }
   ],
   "source": [
    "import pandas as pd                                     \n",
    "import numpy as np                                      \n",
    "import tensorflow as tf                                 \n",
    "import os                                               \n",
    "import cv2                                              \n",
    "import matplotlib.pyplot as plt"
   ]
  },
  {
   "cell_type": "markdown",
   "metadata": {
    "id": "IAXqCpedduVx"
   },
   "source": [
    "## Loading and preparing training data\n"
   ]
  },
  {
   "cell_type": "code",
   "execution_count": null,
   "metadata": {
    "id": "vMXmX8g3dflK"
   },
   "outputs": [],
   "source": [
    "labels = pd.read_csv(\"/content/content/eye_gender_data/Training_set.csv\")   # loading the labels\n",
    "file_paths = [[fname, '/content/content/eye_gender_data/train/' + fname] for fname in labels['filename']]\n",
    "images = pd.DataFrame(file_paths, columns=['filename', 'filepaths'])\n",
    "train_data = pd.merge(images, labels, how = 'inner', on = 'filename')\n",
    "\n",
    "data = []     \n",
    "image_size = 32      # image size taken is 32 here. \n",
    "\n",
    "for i in range(len(train_data)):\n",
    "  \n",
    "  img_array = cv2.imread(train_data['filepaths'][i], cv2.IMREAD_GRAYSCALE)   # converting the image to gray scale\n",
    "  new_img_array = cv2.resize(img_array, (image_size, image_size))      # resizing the image array\n",
    "  data.append(new_img_array) "
   ]
  },
  {
   "cell_type": "markdown",
   "metadata": {
    "id": "BvIxaRD6sn3m"
   },
   "source": [
    "## Data Pre-processing\n",
    "It is necessary to bring all the images to the same shape and size as defined by the VGG-19 model. Also, convert all the labels from categorical to numerical values."
   ]
  },
  {
   "cell_type": "code",
   "execution_count": null,
   "metadata": {
    "id": "ZeRRAYJh2I0i"
   },
   "outputs": [],
   "source": [
    "arr = np.array(data)"
   ]
  },
  {
   "cell_type": "code",
   "execution_count": null,
   "metadata": {
    "colab": {
     "base_uri": "https://localhost:8080/"
    },
    "id": "YRC8bBYwUvGi",
    "outputId": "5f04f7f7-7367-479f-af25-d1d2cafa946c"
   },
   "outputs": [],
   "source": [
    "arr"
   ]
  },
  {
   "cell_type": "code",
   "execution_count": null,
   "metadata": {
    "colab": {
     "base_uri": "https://localhost:8080/"
    },
    "id": "e4puB71FU6xl",
    "outputId": "91c3e22b-dcdb-477a-d48b-aeb175e10a4c"
   },
   "outputs": [],
   "source": [
    "arr.shape"
   ]
  },
  {
   "cell_type": "code",
   "execution_count": null,
   "metadata": {
    "colab": {
     "base_uri": "https://localhost:8080/"
    },
    "id": "2SM7bhmwDAG8",
    "outputId": "43da07c8-a05b-422a-8b53-457215049736"
   },
   "outputs": [],
   "source": [
    "# reshape into 3 channels for feeding into the model\n",
    "train_images_3ch = np.stack([arr]*3, axis=-1)\n",
    "print('\\nTrain_images.shape: {}, of {}'.format(train_images_3ch.shape, train_images_3ch.dtype))"
   ]
  },
  {
   "cell_type": "code",
   "execution_count": null,
   "metadata": {
    "id": "vxPiZCLpsWrd"
   },
   "outputs": [],
   "source": [
    "# normalisation\n",
    "train_images_scaled = train_images_3ch / 255."
   ]
  },
  {
   "cell_type": "code",
   "execution_count": null,
   "metadata": {
    "colab": {
     "base_uri": "https://localhost:8080/"
    },
    "id": "ypkgeyllXtDT",
    "outputId": "934454a0-ffd7-418d-c2ca-e9717de72f38"
   },
   "outputs": [],
   "source": [
    "# encode labels\n",
    "from sklearn.preprocessing import LabelEncoder\n",
    "le = LabelEncoder()\n",
    "train_labels = le.fit_transform(train_data[['label']])"
   ]
  },
  {
   "cell_type": "code",
   "execution_count": null,
   "metadata": {
    "colab": {
     "base_uri": "https://localhost:8080/"
    },
    "id": "MxvuOgzqHvAo",
    "outputId": "71c4b973-a263-4ace-94d4-a2185e9d5f50"
   },
   "outputs": [],
   "source": [
    "train_labels.shape"
   ]
  },
  {
   "cell_type": "markdown",
   "metadata": {
    "id": "cDCZ53yE7340"
   },
   "source": [
    "## Building Model & Hyperparameter tuning\n"
   ]
  },
  {
   "cell_type": "code",
   "execution_count": null,
   "metadata": {
    "colab": {
     "base_uri": "https://localhost:8080/"
    },
    "id": "kOKWYA6Ua4Uh",
    "outputId": "1af607cf-a4b9-4486-d660-ae759e0461dc"
   },
   "outputs": [],
   "source": [
    "# Build VGG19 Model\n",
    "\n",
    "# define input shape\n",
    "INPUT_SHAPE = (32, 32, 3)\n",
    "\n",
    "# get the VGG19 model\n",
    "vgg_layers = tf.keras.applications.vgg19.VGG19(weights='imagenet', include_top=False, \n",
    "                                               input_shape=INPUT_SHAPE) \n",
    "\n",
    "vgg_layers.summary()"
   ]
  },
  {
   "cell_type": "code",
   "execution_count": null,
   "metadata": {
    "colab": {
     "base_uri": "https://localhost:8080/"
    },
    "id": "ZQWMyQLva53K",
    "outputId": "e1a9eed5-1368-4cb7-9bbe-a7514358260c"
   },
   "outputs": [],
   "source": [
    "# Fine-tune all the layers\n",
    "for layer in vgg_layers.layers:\n",
    "    layer.trainable = True \n",
    "\n",
    "# Check the trainable status of the individual layers\n",
    "for layer in vgg_layers.layers:\n",
    "    print(layer, layer.trainable)"
   ]
  },
  {
   "cell_type": "code",
   "execution_count": null,
   "metadata": {
    "colab": {
     "base_uri": "https://localhost:8080/"
    },
    "id": "_jkmDd6PbAJH",
    "outputId": "45c45b85-6b77-4328-d08d-7577f155fc23"
   },
   "outputs": [],
   "source": [
    "# Build CNN model on top of VGG19\n",
    "\n",
    "# define sequential model\n",
    "model = tf.keras.models.Sequential()\n",
    "\n",
    "# Add the vgg convolutional base model\n",
    "model.add(vgg_layers)\n",
    "\n",
    "# add flatten layer\n",
    "model.add(tf.keras.layers.Flatten())\n",
    "\n",
    "# add dense layers with some dropout\n",
    "model.add(tf.keras.layers.Dense(256, activation='relu'))\n",
    "model.add(tf.keras.layers.Dropout(rate=0.3))\n",
    "model.add(tf.keras.layers.Dense(256, activation='relu'))\n",
    "model.add(tf.keras.layers.Dropout(rate=0.3))\n",
    "\n",
    "# add output layer\n",
    "model.add(tf.keras.layers.Dense(1, activation='sigmoid')) #single node with ‘sigmoid‘ activation\n",
    "\n",
    "# compile model\n",
    "model.compile(optimizer=tf.keras.optimizers.Adam(learning_rate=2e-5), \n",
    "              loss='binary_crossentropy', \n",
    "              metrics=['accuracy'])\n",
    "\n",
    "# view model layers\n",
    "model.summary()"
   ]
  },
  {
   "cell_type": "code",
   "execution_count": null,
   "metadata": {
    "colab": {
     "base_uri": "https://localhost:8080/"
    },
    "id": "eHDpTUcwG_e0",
    "outputId": "e8cc91e6-ee2d-4ccb-fbd9-2a9db40129e5"
   },
   "outputs": [],
   "source": [
    "EPOCHS = 30\n",
    "\n",
    "es_callback = tf.keras.callbacks.EarlyStopping(monitor='val_loss', patience=2, \n",
    "                                               restore_best_weights=True,\n",
    "                                               verbose=1)\n",
    "\n",
    "history = model.fit(train_images_scaled, train_labels,\n",
    "                    batch_size=256,\n",
    "                    callbacks=[es_callback], \n",
    "                    validation_split=0.1, epochs=EPOCHS, \n",
    "                    verbose=1)"
   ]
  },
  {
   "cell_type": "markdown",
   "metadata": {
    "id": "tc3lSJ2a-OYt"
   },
   "source": [
    "## Validate the model\n"
   ]
  },
  {
   "cell_type": "code",
   "execution_count": null,
   "metadata": {
    "colab": {
     "base_uri": "https://localhost:8080/",
     "height": 265
    },
    "id": "jLfoImV7ds57",
    "outputId": "b0d270e0-598d-41ef-9ab8-2c85c18b9a72"
   },
   "outputs": [],
   "source": [
    "# Plot Learning Curves\n",
    "fig, ax = plt.subplots(1, 2, figsize=(10, 4))\n",
    "\n",
    "history_df = pd.DataFrame(history.history)\n",
    "history_df[['loss', 'val_loss']].plot(kind='line', ax=ax[0])\n",
    "history_df[['accuracy', 'val_accuracy']].plot(kind='line', ax=ax[1]);"
   ]
  },
  {
   "cell_type": "code",
   "execution_count": null,
   "metadata": {
    "colab": {
     "base_uri": "https://localhost:8080/"
    },
    "id": "CbpiNvC3r9PK",
    "outputId": "3546be7c-16a5-434f-9686-d68d968f9aaf"
   },
   "outputs": [],
   "source": [
    "# saving the model\n",
    "save_dir = \"/results/\"\n",
    "model_name = 'eye_model.h5'\n",
    "model.save(model_name)\n",
    "model_path = save_dir + model_name\n",
    "print('Saved trained model at %s ' % model_path)"
   ]
  },
  {
   "cell_type": "markdown",
   "metadata": {
    "id": "kLrpm-If-lRT"
   },
   "source": [
    "## Predict The Output For Testing Dataset"
   ]
  },
  {
   "cell_type": "markdown",
   "metadata": {
    "id": "nG70J6Un-s2G"
   },
   "source": [
    "## Load Test Set"
   ]
  },
  {
   "cell_type": "code",
   "execution_count": null,
   "metadata": {
    "id": "ndM4OOX_qP3a"
   },
   "outputs": [],
   "source": [
    "test_data = pd.read_csv(\"/content/content/eye_gender_data/Testing_set.csv\" )\n",
    "file_paths_test = [[fname, '/content/content/eye_gender_data/test/' + fname] for fname in test_data['filename']]\n",
    "images_test = pd.DataFrame(file_paths_test, columns=['filename', 'filepaths'])\n",
    "\n",
    "new_test_data = []\n",
    "#image_size = 32 \n",
    "\n",
    "for i in range(len(images_test)):\n",
    "  \n",
    "  img_array_test = cv2.imread(images_test['filepaths'][i], cv2.IMREAD_GRAYSCALE)   # converting the image to gray scale\n",
    "  new_img_array_test = cv2.resize(img_array_test, (image_size, image_size))      # resizing the image array\n",
    "  new_test_data.append(new_img_array_test)"
   ]
  },
  {
   "cell_type": "markdown",
   "metadata": {
    "id": "ZqSujaW0CRi9"
   },
   "source": [
    "## Data Pre-processing on test_data\n"
   ]
  },
  {
   "cell_type": "code",
   "execution_count": null,
   "metadata": {
    "id": "pQWUBcCp215g"
   },
   "outputs": [],
   "source": [
    "test_arr = np.array(new_test_data)"
   ]
  },
  {
   "cell_type": "code",
   "execution_count": null,
   "metadata": {
    "colab": {
     "base_uri": "https://localhost:8080/"
    },
    "id": "Wy7-NZ7TCiSQ",
    "outputId": "c45ce4a3-c42f-484d-fb0e-9ef45f2b85df"
   },
   "outputs": [],
   "source": [
    "test_arr"
   ]
  },
  {
   "cell_type": "code",
   "execution_count": null,
   "metadata": {
    "colab": {
     "base_uri": "https://localhost:8080/"
    },
    "id": "KHEGEoz1qpUb",
    "outputId": "06baf6ce-5835-47a0-da62-48df6068a647"
   },
   "outputs": [],
   "source": [
    "test_arr.shape"
   ]
  },
  {
   "cell_type": "code",
   "execution_count": null,
   "metadata": {
    "colab": {
     "base_uri": "https://localhost:8080/"
    },
    "id": "7KNDswlffvYq",
    "outputId": "8336e47f-522d-4903-e5dd-1749c11916b4"
   },
   "outputs": [],
   "source": [
    "# reshape into 3 channels for feeding into the model\n",
    "test_images_3ch = np.stack([test_arr]*3, axis=-1)\n",
    "print('\\nTest_images.shape: {}, of {}'.format(test_images_3ch.shape, test_images_3ch.dtype))"
   ]
  },
  {
   "cell_type": "code",
   "execution_count": null,
   "metadata": {
    "id": "lIeL1SHdCAcf"
   },
   "outputs": [],
   "source": [
    "# normalisation\n",
    "test_images_scaled = test_images_3ch / 255."
   ]
  },
  {
   "cell_type": "markdown",
   "metadata": {
    "id": "AxtDS6-0J0s2"
   },
   "source": [
    "## Make Prediction on Test Dataset"
   ]
  },
  {
   "cell_type": "code",
   "execution_count": null,
   "metadata": {
    "id": "yXLCDKVrJuzY"
   },
   "outputs": [],
   "source": [
    "test_predictions = model.predict(test_images_scaled)"
   ]
  },
  {
   "cell_type": "code",
   "execution_count": null,
   "metadata": {
    "id": "bMh35Wogw3xn"
   },
   "outputs": [],
   "source": [
    "images_test['predictprobability'] = test_predictions"
   ]
  },
  {
   "cell_type": "code",
   "execution_count": null,
   "metadata": {
    "id": "HqX-PljsxO0O"
   },
   "outputs": [],
   "source": [
    "def convert_to_label (row):\n",
    "  if row['predictprobability'] >=0.5:\n",
    "    return 'male'\n",
    "  else:\n",
    "    return 'female'\n",
    "\n",
    "images_test['predictlabel'] = images_test.apply(convert_to_label, axis=1)"
   ]
  },
  {
   "cell_type": "code",
   "execution_count": null,
   "metadata": {
    "colab": {
     "base_uri": "https://localhost:8080/",
     "height": 200
    },
    "id": "oUgvbHDq089T",
    "outputId": "fe1794fa-ac77-4ba6-fbac-2f169e215d9b"
   },
   "outputs": [],
   "source": [
    "images_test.head()"
   ]
  },
  {
   "cell_type": "code",
   "execution_count": null,
   "metadata": {
    "colab": {
     "base_uri": "https://localhost:8080/",
     "height": 200
    },
    "id": "5aXgvbj-0_Mm",
    "outputId": "c9249037-a053-4ddc-8c3d-e88b606c0fc2"
   },
   "outputs": [],
   "source": [
    "images_test.tail()"
   ]
  },
  {
   "cell_type": "code",
   "execution_count": null,
   "metadata": {
    "colab": {
     "base_uri": "https://localhost:8080/",
     "height": 17
    },
    "id": "QYtTrvdc1JrO",
    "outputId": "640d3a48-8a22-4ce1-8c63-65b7810e2d4f"
   },
   "outputs": [],
   "source": [
    "# Save prediction results locally via colab notebook\n",
    "images_test.to_csv(\"images_test.csv\", index = False) \n",
    "\n",
    "# To download the csv file locally\n",
    "from google.colab import files        \n",
    "files.download('images_test.csv')"
   ]
  }
 ],
 "metadata": {
  "colab": {
   "collapsed_sections": [],
   "name": "CNN_eye_from_gender.ipynb",
   "provenance": []
  },
  "kernelspec": {
   "display_name": "Python 3 (ipykernel)",
   "language": "python",
   "name": "python3"
  },
  "language_info": {
   "codemirror_mode": {
    "name": "ipython",
    "version": 3
   },
   "file_extension": ".py",
   "mimetype": "text/x-python",
   "name": "python",
   "nbconvert_exporter": "python",
   "pygments_lexer": "ipython3",
   "version": "3.9.11"
  }
 },
 "nbformat": 4,
 "nbformat_minor": 1
}
