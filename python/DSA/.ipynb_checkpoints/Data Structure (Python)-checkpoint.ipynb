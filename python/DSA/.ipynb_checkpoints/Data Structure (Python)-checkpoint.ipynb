{
 "cells": [
  {
   "cell_type": "code",
   "execution_count": 6,
   "id": "d490235c",
   "metadata": {},
   "outputs": [],
   "source": [
    "# Constructor\n",
    "# we use( __init__ ) function for constructor\n",
    "#class Cookie:\n",
    " #   def __init__(self,color):\n",
    "  #      self.color = color"
   ]
  },
  {
   "cell_type": "code",
   "execution_count": 7,
   "id": "6db4ec43",
   "metadata": {},
   "outputs": [],
   "source": [
    "# Linked List Implementation"
   ]
  },
  {
   "cell_type": "code",
   "execution_count": 8,
   "id": "c424f18e",
   "metadata": {},
   "outputs": [],
   "source": [
    "# Node \n",
    "class Node:\n",
    "    def __init__(self, value):\n",
    "        self.value = value\n",
    "        self.next = None"
   ]
  },
  {
   "cell_type": "code",
   "execution_count": 9,
   "id": "572920d9",
   "metadata": {},
   "outputs": [],
   "source": [
    "# Linked list creatinon\n",
    "class LinkedList:\n",
    "    def __init__(self, value):\n",
    "        new_node = Node(value)\n",
    "        self.head = new_node # pointing head to the new node\n",
    "        self.tail = new_node # pointing tail to the new node \n",
    "        self.length = 1\n",
    "        \n",
    "# print the whole LinkedList \n",
    "    def print_list(self):\n",
    "        temp = self.head \n",
    "        while temp is not None: \n",
    "            print(temp.value)\n",
    "            temp = temp.next\n",
    "# appending a New Node \n",
    "    def append(self,value):\n",
    "        new_node = Node(value)\n",
    "        if self.head is None: \n",
    "            self.head = new_node \n",
    "            self.tail = new_node \n",
    "        else: \n",
    "            self.tail.next = new_node\n",
    "            self.tail = new_node \n",
    "        self.length += 1\n",
    "        return True\n",
    "# Popping an old Node \n",
    "    def pop(self):\n",
    "        # None condition \n",
    "        if self.length == 0:\n",
    "            return None \n",
    "        temp = self.head \n",
    "        pre = self.head \n",
    "        \n",
    "        while(temp.next is not None):\n",
    "            pre = temp \n",
    "            temp = temp.next \n",
    "        self.tail = pre\n",
    "        self.tail.mext = None \n",
    "        self.length -= 1\n",
    "        if self.length == 0:\n",
    "            self.head = None \n",
    "            self.tail = None \n",
    "        return temp.value \n",
    "#popping first node \n",
    "    def pop_first(self):\n",
    "        #none condition\n",
    "        if self.length == 0:\n",
    "            return 0 \n",
    "        temp = self.head \n",
    "        self.head = self.head.next \n",
    "        temp.next = None \n",
    "        self.length -= 1 \n",
    "        # One node condition\n",
    "        if self.length == 0:\n",
    "            self.tail = None\n",
    "        return temp\n",
    "    \n",
    "# get method \n",
    "    def get(self,index):\n",
    "        if index < 0 or index >= self.length:\n",
    "            return None\n",
    "        temp = self.head\n",
    "        for i in range(index):\n",
    "            temp = temp.next\n",
    "            print(i)\n",
    "# insert a node \n",
    "    def insert(self, index, value):\n",
    "        if index < 0 or index > self.length:\n",
    "            return False\n",
    "        if index == 0: \n",
    "            return self.prepend(value)\n",
    "        if index == self.length:\n",
    "            return self.append(value)\n",
    "    \n",
    "        new_node = Node(value)\n",
    "        temp = self.get(index - 1)\n",
    "        new_node.next = temp.next\n",
    "        temp.next = new_node\n",
    "        self.length += 1\n",
    "        return True\n",
    "        \n"
   ]
  },
  {
   "cell_type": "code",
   "execution_count": 10,
   "id": "65e98444",
   "metadata": {},
   "outputs": [
    {
     "ename": "AttributeError",
     "evalue": "'NoneType' object has no attribute 'next'",
     "output_type": "error",
     "traceback": [
      "\u001b[1;31m---------------------------------------------------------------------------\u001b[0m",
      "\u001b[1;31mAttributeError\u001b[0m                            Traceback (most recent call last)",
      "Input \u001b[1;32mIn [10]\u001b[0m, in \u001b[0;36m<cell line: 6>\u001b[1;34m()\u001b[0m\n\u001b[0;32m      4\u001b[0m linklist\u001b[38;5;241m.\u001b[39mappend(\u001b[38;5;241m2\u001b[39m)\n\u001b[0;32m      5\u001b[0m linklist\u001b[38;5;241m.\u001b[39mappend(\u001b[38;5;241m4\u001b[39m)\n\u001b[1;32m----> 6\u001b[0m \u001b[43mlinklist\u001b[49m\u001b[38;5;241;43m.\u001b[39;49m\u001b[43minsert\u001b[49m\u001b[43m(\u001b[49m\u001b[38;5;241;43m1\u001b[39;49m\u001b[43m,\u001b[49m\u001b[38;5;241;43m1\u001b[39;49m\u001b[43m)\u001b[49m\n\u001b[0;32m      7\u001b[0m print_list(linklist)\n",
      "Input \u001b[1;32mIn [9]\u001b[0m, in \u001b[0;36mLinkedList.insert\u001b[1;34m(self, index, value)\u001b[0m\n\u001b[0;32m     75\u001b[0m new_node \u001b[38;5;241m=\u001b[39m Node(value)\n\u001b[0;32m     76\u001b[0m temp \u001b[38;5;241m=\u001b[39m \u001b[38;5;28mself\u001b[39m\u001b[38;5;241m.\u001b[39mget(index \u001b[38;5;241m-\u001b[39m \u001b[38;5;241m1\u001b[39m)\n\u001b[1;32m---> 77\u001b[0m new_node\u001b[38;5;241m.\u001b[39mnext \u001b[38;5;241m=\u001b[39m \u001b[43mtemp\u001b[49m\u001b[38;5;241;43m.\u001b[39;49m\u001b[43mnext\u001b[49m\n\u001b[0;32m     78\u001b[0m temp\u001b[38;5;241m.\u001b[39mnext \u001b[38;5;241m=\u001b[39m new_node\n\u001b[0;32m     79\u001b[0m \u001b[38;5;28mself\u001b[39m\u001b[38;5;241m.\u001b[39mlength \u001b[38;5;241m+\u001b[39m\u001b[38;5;241m=\u001b[39m \u001b[38;5;241m1\u001b[39m\n",
      "\u001b[1;31mAttributeError\u001b[0m: 'NoneType' object has no attribute 'next'"
     ]
    }
   ],
   "source": [
    "# when we write my_linked_list = LinkedList(4)\n",
    "# it creates what up above we wrote with value of 4 to new_node\n",
    "linklist = LinkedList(4)\n",
    "linklist.append(2)\n",
    "linklist.append(4)\n",
    "linklist.insert(1,1)\n",
    "print_list(linklist)\n",
    "\n"
   ]
  },
  {
   "cell_type": "code",
   "execution_count": null,
   "id": "b08ca63c",
   "metadata": {},
   "outputs": [],
   "source": []
  },
  {
   "cell_type": "code",
   "execution_count": null,
   "id": "c1c6af9b",
   "metadata": {},
   "outputs": [],
   "source": [
    "\n",
    "        "
   ]
  }
 ],
 "metadata": {
  "kernelspec": {
   "display_name": "Python 3 (ipykernel)",
   "language": "python",
   "name": "python3"
  },
  "language_info": {
   "codemirror_mode": {
    "name": "ipython",
    "version": 3
   },
   "file_extension": ".py",
   "mimetype": "text/x-python",
   "name": "python",
   "nbconvert_exporter": "python",
   "pygments_lexer": "ipython3",
   "version": "3.9.7"
  }
 },
 "nbformat": 4,
 "nbformat_minor": 5
}
