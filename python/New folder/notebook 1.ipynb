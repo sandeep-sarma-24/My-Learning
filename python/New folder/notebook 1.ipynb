{
 "cells": [
  {
   "cell_type": "code",
   "execution_count": 1,
   "metadata": {},
   "outputs": [
    {
     "name": "stdout",
     "output_type": "stream",
     "text": [
      "welcome sandeep \n"
     ]
    }
   ],
   "source": [
    "#Accessing the inout from user \n",
    "name = input(\"Enter your name : \")\n",
    "print(\"welcome\" , name)"
   ]
  },
  {
   "cell_type": "code",
   "execution_count": 2,
   "metadata": {},
   "outputs": [
    {
     "data": {
      "text/plain": [
       "str"
      ]
     },
     "execution_count": 2,
     "metadata": {},
     "output_type": "execute_result"
    }
   ],
   "source": [
    "#type\n",
    "type(\"sdfjhdfkj\")"
   ]
  },
  {
   "cell_type": "code",
   "execution_count": 3,
   "metadata": {},
   "outputs": [
    {
     "data": {
      "text/plain": [
       "float"
      ]
     },
     "execution_count": 3,
     "metadata": {},
     "output_type": "execute_result"
    }
   ],
   "source": [
    "#type\n",
    "type(20.4134)"
   ]
  },
  {
   "cell_type": "code",
   "execution_count": 4,
   "metadata": {},
   "outputs": [
    {
     "name": "stdout",
     "output_type": "stream",
     "text": [
      "2.0\n",
      "<class 'int'>\n"
     ]
    }
   ],
   "source": [
    "#typecasting\n",
    "x = 2\n",
    "print( float(x) )\n",
    "print (type(x))\n"
   ]
  },
  {
   "cell_type": "code",
   "execution_count": 5,
   "metadata": {},
   "outputs": [
    {
     "name": "stdout",
     "output_type": "stream",
     "text": [
      "-2\n"
     ]
    }
   ],
   "source": [
    "#Calculation \n",
    "x = 4%(1+ 9)**2 - 60//(7+2)\n",
    "print(x)"
   ]
  },
  {
   "cell_type": "code",
   "execution_count": 6,
   "metadata": {},
   "outputs": [
    {
     "data": {
      "text/plain": [
       "'e'"
      ]
     },
     "execution_count": 6,
     "metadata": {},
     "output_type": "execute_result"
    }
   ],
   "source": [
    "#Accessing from the string\n",
    "string = \"Sadness\"\n",
    "string[2]\n",
    "#(-1) is the last postion of the string hence it is (s)\n",
    "string[-3]"
   ]
  },
  {
   "cell_type": "code",
   "execution_count": 7,
   "metadata": {},
   "outputs": [
    {
     "name": "stdout",
     "output_type": "stream",
     "text": [
      "Python \n",
      "programming is fun\n"
     ]
    }
   ],
   "source": [
    "#Slicing {format == string[start:end:step]}\n",
    "statement = \"Python programming is fun\"\n",
    "sliced = statement[0:7]\n",
    "print(sliced)\n",
    "\n",
    "sliced1 = statement[7:]\n",
    "print(sliced1)"
   ]
  },
  {
   "cell_type": "code",
   "execution_count": 8,
   "metadata": {},
   "outputs": [
    {
     "name": "stdout",
     "output_type": "stream",
     "text": [
      "True\n",
      "False\n"
     ]
    }
   ],
   "source": [
    "#Membership = to check the given value in the string \n",
    "string = \"hello World how are you\"\n",
    "print('hello' in string)\n",
    "\n",
    "print('david' in string)"
   ]
  },
  {
   "cell_type": "code",
   "execution_count": 9,
   "metadata": {},
   "outputs": [
    {
     "name": "stdout",
     "output_type": "stream",
     "text": [
      "10\n",
      "20\n"
     ]
    }
   ],
   "source": [
    "#Anonymous/Lambda functions\n",
    "double = lambda x : x*2 \n",
    "print(double(5))\n",
    "\n",
    "double = lambda y : y*(y-1) \n",
    "print(double(5))"
   ]
  },
  {
   "cell_type": "code",
   "execution_count": 10,
   "metadata": {},
   "outputs": [
    {
     "name": "stdout",
     "output_type": "stream",
     "text": [
      "3.141592653589793\n",
      "-1.0\n",
      "22026.465794806718\n",
      "3.0\n",
      "1.1752011936438014\n",
      "720\n"
     ]
    }
   ],
   "source": [
    "#Math functions\n",
    "\n",
    "import math as m\n",
    "\n",
    "print(m.pi)\n",
    "print(m.cos(m.pi))\n",
    "print(m.exp(10))\n",
    "print(m.log10(1000))\n",
    "print(m.sinh(1))\n",
    "print(m.factorial(6))"
   ]
  },
  {
   "cell_type": "code",
   "execution_count": 11,
   "metadata": {},
   "outputs": [
    {
     "name": "stdout",
     "output_type": "stream",
     "text": [
      "['python', 'Java', 'C', 'Kotlin']\n",
      "['python', 'Java', 'Html', 'Kotlin']\n",
      "True\n",
      "['python', 'Java', 'Html', 'Kotlin', 'PHP']\n",
      "['python', 'Java', 'C#', 'Html', 'Kotlin', 'PHP']\n",
      "['python', 'Java', 'C#', 'Html', 'PHP']\n"
     ]
    }
   ],
   "source": [
    "#Lists & Methods (these are muttables)\n",
    "languages = [\"python\", \"Java\" , \"C\", \"Kotlin\"]\n",
    "print(languages[:4])\n",
    "\n",
    "languages[2] = \"Html\"\n",
    "print(languages[:4])\n",
    "\n",
    "print(\"Java\" in languages)\n",
    "\n",
    "languages.append(\"PHP\")\n",
    "print(languages)\n",
    "\n",
    "languages.insert(2,\"C#\")\n",
    "print(languages)\n",
    "\n",
    "languages.remove(\"Kotlin\")\n",
    "print(languages)"
   ]
  },
  {
   "cell_type": "code",
   "execution_count": 12,
   "metadata": {},
   "outputs": [
    {
     "name": "stdout",
     "output_type": "stream",
     "text": [
      "(21, 3, 521, 23)\n"
     ]
    }
   ],
   "source": [
    "#tuples (these are immutable)\n",
    "number = (21,3,521,23)\n",
    "print(number)"
   ]
  },
  {
   "cell_type": "code",
   "execution_count": 13,
   "metadata": {},
   "outputs": [
    {
     "name": "stdout",
     "output_type": "stream",
     "text": [
      "{'cats', 'elepant', 'tiger', 'dogs'}\n",
      "set()\n",
      "{'monkey', 'cats', 'tiger', 'dogs', 'elepant'}\n",
      "{'monkey', 'cats', 'tiger', 'dogs', 'leopard', 'elepant'}\n",
      "{'monkey', 'cats', 'tiger', 'dogs', 'leopard', 'elepant'}\n",
      "{'leopard', 'tiger', 'monkey'}\n"
     ]
    }
   ],
   "source": [
    "#Sets \n",
    "animals = {\"dogs\", \"cats\", \"tiger\", \"elepant\"}\n",
    "print(animals) \n",
    "\n",
    "#Empty set \n",
    "animal = set()\n",
    "print(animal)\n",
    "\n",
    "#Adding element in set \n",
    "animals.add(\"monkey\")\n",
    "print(animals) \n",
    "\n",
    "#Merging sets \n",
    "wild_animals = {\"tiger\", \"leopard\", \"monkey\"}\n",
    "animals.update(wild_animals)\n",
    "print(animals) \n",
    "\n",
    "#Set Operations \n",
    "union = animals.union(wild_animals)\n",
    "print(union)\n",
    "\n",
    "inter = animals.intersection(wild_animals)\n",
    "print(inter)"
   ]
  },
  {
   "cell_type": "code",
   "execution_count": 14,
   "metadata": {},
   "outputs": [
    {
     "name": "stdout",
     "output_type": "stream",
     "text": [
      "{'name': 'Linus', 'age': 21}\n",
      "Linus\n",
      "{'name': 'Dennis', 'age': 21}\n",
      "{'name': 'Dennis', 'age': 21, 'hobbies': ['dancing', 'fishing']}\n",
      "{'age': 21, 'hobbies': ['dancing', 'fishing']}\n"
     ]
    }
   ],
   "source": [
    "#dictonaries (Associative Arrays) & methods \n",
    "person1 = {\"name\": \"Linus\", \"age\" : 21}\n",
    "print(person1)\n",
    "\n",
    "print(person1[\"name\"])\n",
    "\n",
    "person1[\"name\"] = \"Dennis\"\n",
    "print(person1)\n",
    "\n",
    "person1[\"hobbies\"] = [\"dancing\", \"fishing\"]\n",
    "print(person1)\n",
    "\n",
    "person1.pop(\"name\")\n",
    "print(person1) \n",
    "\n"
   ]
  },
  {
   "cell_type": "code",
   "execution_count": 15,
   "metadata": {},
   "outputs": [
    {
     "name": "stdout",
     "output_type": "stream",
     "text": [
      "['mango', 'orange', 'strawberry']\n",
      "None\n",
      "['mango', 'orange', 'strawberry']\n"
     ]
    }
   ],
   "source": [
    "#Sorted and Sort \n",
    "A = [\"orange\", \"strawberry\", \"mango\"]\n",
    "B = A.sort()\n",
    "C = sorted(A)\n",
    "print(A)\n",
    "print(B)\n",
    "print(A)"
   ]
  },
  {
   "cell_type": "code",
   "execution_count": 16,
   "metadata": {},
   "outputs": [
    {
     "ename": "FileNotFoundError",
     "evalue": "[Errno 2] No such file or directory: 'test.txt'",
     "output_type": "error",
     "traceback": [
      "\u001b[1;31m---------------------------------------------------------------------------\u001b[0m",
      "\u001b[1;31mFileNotFoundError\u001b[0m                         Traceback (most recent call last)",
      "\u001b[1;32m~\\AppData\\Local\\Temp/ipykernel_2388/3732108654.py\u001b[0m in \u001b[0;36m<module>\u001b[1;34m\u001b[0m\n\u001b[0;32m      1\u001b[0m \u001b[1;31m#File I/O\u001b[0m\u001b[1;33m\u001b[0m\u001b[1;33m\u001b[0m\u001b[1;33m\u001b[0m\u001b[0m\n\u001b[0;32m      2\u001b[0m \u001b[1;33m\u001b[0m\u001b[0m\n\u001b[1;32m----> 3\u001b[1;33m \u001b[0mf\u001b[0m \u001b[1;33m=\u001b[0m \u001b[0mopen\u001b[0m\u001b[1;33m(\u001b[0m\u001b[1;34m\"test.txt\"\u001b[0m\u001b[1;33m)\u001b[0m    \u001b[1;31m# open file in current directory\u001b[0m\u001b[1;33m\u001b[0m\u001b[1;33m\u001b[0m\u001b[0m\n\u001b[0m\u001b[0;32m      4\u001b[0m \u001b[0mf\u001b[0m \u001b[1;33m=\u001b[0m \u001b[0mopen\u001b[0m\u001b[1;33m(\u001b[0m\u001b[1;34m\"C:/Python38/README.txt\"\u001b[0m\u001b[1;33m)\u001b[0m  \u001b[1;31m# specifying full path\u001b[0m\u001b[1;33m\u001b[0m\u001b[1;33m\u001b[0m\u001b[0m\n\u001b[0;32m      5\u001b[0m \u001b[1;33m\u001b[0m\u001b[0m\n",
      "\u001b[1;31mFileNotFoundError\u001b[0m: [Errno 2] No such file or directory: 'test.txt'"
     ]
    }
   ],
   "source": [
    "#File I/O\n",
    "\n",
    "f = open(\"test.txt\")    # open file in current directory\n",
    "f = open(\"C:/Python38/README.txt\")  # specifying full path\n",
    "\n",
    "#Reading / writing / creating \n",
    "\n",
    "f = open(\"test.txt\")      # equivalent to 'r' or 'rt'\n",
    "f = open(\"test.txt\",'w')  # write in text mode\n",
    "f = open(\"img.bmp\",'r+b') # read and write in binary mode\n",
    "\n",
    "#Types of closing a file \n",
    "\n",
    "#1st method\n",
    "f.close() \n",
    "\n",
    "#2nd method\n",
    "try:\n",
    "   f = open(\"test.txt\", encoding = 'utf-8')\n",
    "   # perform file operations\n",
    "finally:\n",
    "   f.close()\n",
    "\n",
    "#3rd method\n",
    "\n",
    "with open(\"test.txt\", encoding = 'utf-8') as f:\n",
    "   # perform file operations\n",
    "\n",
    "#writing\n",
    "    f.write() "
   ]
  },
  {
   "cell_type": "code",
   "execution_count": null,
   "metadata": {},
   "outputs": [],
   "source": [
    "#directories \n",
    "\n",
    "import os #os library \n",
    "\n",
    "current_dir = os.getcwd()\n",
    "print(current_dir) #gets the current directory \n",
    "\n",
    "os.chdir() # changes the directory\n",
    "\n",
    "print(os.listdir()) # print all the directories / folders \n",
    "\n",
    "os.mkdir(\"test\") # creates a new directory \n",
    "\n",
    "os.rename(\"test\", \"test-new\") # renames a directory \n",
    "\n",
    "os.remove(\"test-new\") # removes a folder\n",
    "\n",
    "os.rmdir(\"test.dir\") # removes a directory "
   ]
  },
  {
   "cell_type": "code",
   "execution_count": null,
   "metadata": {},
   "outputs": [
    {
     "name": "stdout",
     "output_type": "stream",
     "text": [
      "Corey.Carter@company.com\n",
      "sandeep.sarma@company.com\n",
      "Sandeep.Sarma@company.com\n",
      "Corey.Schafer@company.com\n",
      "Corey Carter\n"
     ]
    }
   ],
   "source": [
    "#Classes and instances \n",
    "\n",
    "# Manual Assigning \n",
    "class Employee:\n",
    "    pass \n",
    "\n",
    "emp_1 = Employee()\n",
    "emp_2 = Employee()\n",
    "\n",
    "emp_1.first = \"Corey\"\n",
    "emp_1.last = \"Carter\"\n",
    "emp_1.pay = 50000\n",
    "emp_1.email = emp_1.first + \".\" + emp_1.last + \"@company.com\" \n",
    "\n",
    "emp_2.first = \"sandeep\"\n",
    "emp_2.last = \"sarma\"\n",
    "emp_2.pay = 80000\n",
    "emp_2.email = emp_2.first + \".\" + emp_2.last + \"@company.com\" \n",
    "\n",
    "print(emp_1.email)\n",
    "print(emp_2.email)\n",
    "\n",
    "#Automatic Assigning using __init__ method or (constructor method)\n",
    "\n",
    "class Student:\n",
    "\n",
    "    def __init__(self, first, last, pay):\n",
    "        self.first = first \n",
    "        self.last = last \n",
    "        self.pay = pay\n",
    "        self.email = first + \".\" + last + \"@company.com\" \n",
    "\n",
    "Stu_1 = Student(\"Sandeep\", \"Sarma\", 60000)\n",
    "Stu_2 = Student(\"Corey\", \"Schafer\", 50000)\n",
    "\n",
    "print(Stu_1.email)\n",
    "print(Stu_2.email)\n",
    "print(\"{} {}\".format(emp_1.first,emp_1.last))"
   ]
  },
  {
   "cell_type": "code",
   "execution_count": null,
   "metadata": {},
   "outputs": [
    {
     "name": "stdout",
     "output_type": "stream",
     "text": [
      "it works\n",
      "blue is a bird\n",
      "Bird is ready\n",
      "Penguin is ready\n",
      "Penguin\n"
     ]
    }
   ],
   "source": [
    "#Object-Oriented-Programming \n",
    "\n",
    "#Example 1\n",
    "class Something:\n",
    "    def out(self):\n",
    "        print(\"it works\")\n",
    "\n",
    "s = Something()\n",
    "s.out()\n",
    "\n",
    "#Example 2 \n",
    "class Parrot: \n",
    "    species = \"bird\"\n",
    "\n",
    "    def __init__(self, name, age):  #initializer method\n",
    "        self.name = name \n",
    "        self.age = age \n",
    "\n",
    "blue = Parrot(\"blue\", 10)\n",
    "black = Parrot(\"blacky\", 12)\n",
    "\n",
    "print(\"blue is a {}\".format(blue.__class__.species))\n",
    "\n",
    "#Inheritance \n",
    "\n",
    "class Bird: #parent class\n",
    "    def __init__(self):\n",
    "        print(\"Bird is ready\")\n",
    "    def whoisThis(self):\n",
    "        print(\"Bird\")\n",
    "\n",
    "class Penguin(Bird): #child class\n",
    "    def __init__(self):\n",
    "        super().__init__()\n",
    "        print(\"Penguin is ready\")\n",
    "    def whoisThis(self):\n",
    "        print(\"Penguin\")\n",
    "\n",
    "peggy = Penguin()\n",
    "peggy.whoisThis()\n",
    "\n",
    "#Encapsulation \n",
    "\n",
    "class Computer: \n",
    "    pass"
   ]
  },
  {
   "cell_type": "code",
   "execution_count": 30,
   "metadata": {},
   "outputs": [
    {
     "name": "stdout",
     "output_type": "stream",
     "text": [
      "['Python', 'R']\n"
     ]
    }
   ],
   "source": [
    "dict_1 = {'Python':40 , 'R':45}\n",
    "\n",
    "print(list(dict_1.keys()))"
   ]
  },
  {
   "cell_type": "code",
   "execution_count": 7,
   "metadata": {},
   "outputs": [
    {
     "name": "stdout",
     "output_type": "stream",
     "text": [
      "[12, 5, 4, 6, 3]\n",
      "Autommobiles  =  12\n",
      "Honda  =  5\n",
      "Benz  =  4\n",
      "Suzuki  =  6\n",
      "BMW  =  3\n",
      "[0, 2, 4, 6, 8, 10, 12, 14, 16, 18, 20]\n",
      "[0, 10, 20, 30, 40, 50, 60, 70, 80, 90]\n"
     ]
    }
   ],
   "source": [
    "#List Comprehensions \n",
    "\n",
    "l1 = [\"Autommobiles\", \"Honda\",\"Benz\", \"Suzuki\", \"BMW\"]\n",
    "\n",
    "#Creating a list of Length of each element from the above list. \n",
    "\n",
    "#using normal method\n",
    "l2 = []\n",
    "for i in l1:\n",
    "    l2.append(len(l1)) \n",
    "\n",
    "l2\n",
    "#using Comprehensions\n",
    "l2 = [len(i) for i in l1]\n",
    "print(l2)\n",
    "\n",
    "#iterating over l1 and l2 Simultaneously\n",
    "for i,j in zip(l1,l2):\n",
    "    print(i, \" = \", j)\n",
    "\n",
    "# having a even number system (using list comprehension and if)\n",
    "number_list = [x for x in range(21) if x % 2 ==0]\n",
    "print(number_list)\n",
    "\n",
    "# divisiblity of 10 using list comprehensions and nested if\n",
    "number10 = [y for y in range(100) if y % 2 == 0 if y % 5 == 0]\n",
    "print(number10)\n"
   ]
  },
  {
   "cell_type": "code",
   "execution_count": null,
   "metadata": {},
   "outputs": [],
   "source": [
    "#Dictionary Comprehension \n",
    "\n",
    "d = {i : len(i) for i in l1}\n",
    "d\n",
    "\n",
    "input_list = list(range(1,100))\n",
    "output_dict = {}\n",
    "\n",
    "for val in input_list:\n",
    "    if val % 3 == 0:\n",
    "        output_dict[val] = val**3\n",
    "\n",
    "#Dictionary Comprehension \n",
    "output_dict= {val : val**3 for val in input_list if val % 3 == 0}\n",
    "output_dict"
   ]
  },
  {
   "cell_type": "code",
   "execution_count": 4,
   "metadata": {},
   "outputs": [
    {
     "data": {
      "text/plain": [
       "35"
      ]
     },
     "execution_count": 4,
     "metadata": {},
     "output_type": "execute_result"
    }
   ],
   "source": [
    "#Functions \n",
    "def factorial(n):\n",
    "    fact = 1 \n",
    "    for i in range(1,n+1):\n",
    "        fact *= i \n",
    "    return fact \n",
    "factorial(5)\n",
    "def func(x = 1 ,y = 2):\n",
    "    z = x * y + x + y\n",
    "    return z\n",
    "\n",
    "func(2, func(3))"
   ]
  },
  {
   "cell_type": "code",
   "execution_count": 4,
   "metadata": {},
   "outputs": [
    {
     "name": "stdout",
     "output_type": "stream",
     "text": [
      "3\n",
      "[1, 2, 3]\n",
      "[4, 5, 6]\n",
      "[7, 8, 9]\n",
      "[0]\n",
      "1\n",
      "2\n",
      "3\n",
      "4\n",
      "5\n",
      "6\n",
      "7\n",
      "8\n",
      "9\n",
      "0\n"
     ]
    }
   ],
   "source": [
    "# NumberGrid\n",
    "grid = [\n",
    "    [1,2,3],\n",
    "    [4,5,6],\n",
    "    [7,8,9],\n",
    "    [0]\n",
    "]\n",
    "print(grid[0][2])\n",
    "for row in grid:\n",
    "    print(row)\n",
    "for row in grid:\n",
    "    for col in row:\n",
    "        print(col)"
   ]
  },
  {
   "cell_type": "code",
   "execution_count": 137,
   "metadata": {},
   "outputs": [
    {
     "name": "stdout",
     "output_type": "stream",
     "text": [
      "8\n",
      "4.9529470286256405\n",
      "Your Love score is 7\n",
      "Tails\n"
     ]
    }
   ],
   "source": [
    "#Random Module \n",
    "import random\n",
    "\n",
    "random_integer = random.randint(1,10)\n",
    "print(random_integer)\n",
    "\n",
    "random_float = random.random()\n",
    "result = random_float*5\n",
    "print(result)\n",
    "\n",
    "love_score = random.randint(1,100)\n",
    "print(f\"Your Love score is {love_score}\")\n",
    "\n",
    "Coin_Toss = random.random()\n",
    "\n",
    "if(Coin_Toss > 0.5):\n",
    "    print(\"Heads\")\n",
    "elif(Coin_Toss < 0.5):\n",
    "    print(\"Tails\")"
   ]
  },
  {
   "cell_type": "code",
   "execution_count": 2,
   "metadata": {},
   "outputs": [
    {
     "name": "stdout",
     "output_type": "stream",
     "text": [
      "1\n",
      "81\n",
      "h\n",
      "2.0\n"
     ]
    }
   ],
   "source": [
    "a =  ((500//7) % 5) ** 3\n",
    "print(a)\n",
    "\n",
    "b = 3*3**3\n",
    "print(b)\n",
    "\n",
    "l1 = ['vikas', 'aksah','asdf','asgg']\n",
    "print(l1[1][-1])\n",
    "\n",
    "x = 2.5\n",
    "print(float(int(x)))"
   ]
  },
  {
   "cell_type": "code",
   "execution_count": 4,
   "metadata": {},
   "outputs": [
    {
     "name": "stdout",
     "output_type": "stream",
     "text": [
      "{40, 95}\n",
      "[20, 21, 25, 62, 67, 71, 75, 76, 82]\n",
      "22\n"
     ]
    }
   ],
   "source": [
    "C = [7, 8, 9, 18, 20, 21, 25, 26, 27, 31, 32, 34, 35, 36, 40, 43, 45, 47, 53, 58, 62, 67, 68, 71, 72, 74, 75, 76,\n",
    "80, 81, 82, 90, 93, 95, 97, 99]\n",
    "F = [1, 7, 10, 13, 16, 22, 24, 29, 30, 32, 34, 39, 40, 43, 44, 48, 56, 60, 65, 68, 69, 73, 77, 78, 90, 93, 94, 95,\n",
    "96]\n",
    "H = [5, 12, 14, 17, 20, 21, 22, 25, 28, 30, 37, 38, 39, 40, 42, 44, 57, 59, 61, 62, 67, 71, 75, 76, 77, 82, 83, 86,\n",
    "87, 92, 94, 95]\n",
    "\n",
    "def common_member(C, F, H):\n",
    "    a_set = set(C)\n",
    "    b_set = set(F)\n",
    "    c_set = set(H)\n",
    "  \n",
    "    if (a_set & b_set & c_set):\n",
    "        print(a_set & b_set & c_set)\n",
    "    else:\n",
    "        print(\"No common elements\")\n",
    "common_member(C, F, H)\n",
    "\n",
    "set_C = set(C)\n",
    "set_F = set(F)\n",
    "set_H = set(H)\n",
    "set_N = []\n",
    "c_and_h= (set_C.intersection(set_H))\n",
    "\n",
    "for i in c_and_h:\n",
    "    if i not in set_F:\n",
    "        set_N.append(i)\n",
    "\n",
    "print(sorted(set_N))\n",
    "\n",
    "set_C = set(C)\n",
    "set_F = set(F)\n",
    "set_H = set(H)\n",
    "set_all =[]\n",
    "set_all_1 =[]\n",
    "set_all_2 =[]\n",
    "\n",
    "c_and_f = (set_C.intersection(set_F))\n",
    "c_and_H = (set_C.intersection(set_H))\n",
    "f_and_h = (set_F.intersection(set_H))\n",
    "\n",
    "for i in c_and_f:\n",
    "    if i not in c_and_H:\n",
    "        set_all.append(i)\n",
    "\n",
    "for i in c_and_h:\n",
    "    if i not in c_and_f:\n",
    "        set_all_1.append(i)\n",
    "        \n",
    "for i in f_and_h:\n",
    "    if i not in c_and_h:\n",
    "        set_all_2.append(i)\n",
    "\n",
    "\n",
    "\n",
    "final = set_all + set_all_1 + set_all_2\n",
    "\n",
    "print(len(final))"
   ]
  },
  {
   "cell_type": "code",
   "execution_count": 2,
   "metadata": {},
   "outputs": [
    {
     "name": "stdout",
     "output_type": "stream",
     "text": [
      "Deliha 2\n"
     ]
    }
   ],
   "source": [
    "netflix = {'The Debt Collector': 1821195, 'Act of Vengeance': 2804479, 'Paradise Lost': 2195477, \"Gerald's Game\": 3650626, 'Long Shot': 638440, 'Mak Cun': 1010311, 'Our Souls at Night': 3028705, 'Out of Thin Air': 2681938, \"Paul Hollywood's Big Continental Road Trip\": 230689, 'Satu Hari': 1012350, 'Monster High: Boo York, Boo York': 1526025, 'Cultivating the Seas: History and Future of the Full-Cycle Cultured Kindai Tuna': 2762103, 'Domino': 872663, 'TUNA GIRL': 2574816, '5CM': 2647713, 'Animal World': 220789, 'Hold the Dark': 2307432, 'Lessons from a School Shooting: Notes from Dunblane': 2419534, 'Made in Mexico': 3653712, 'Single': 239278, 'The 3rd Eye': 196138, 'The Sinking Of Van Der Wijck': 2831856, 'Two Catalonias': 1337119, 'Bobby Sands: 66 Days': 2005623, 'Bard of Blood': 744998, 'Deliha 2': 3638900, 'Dragons: Rescue Riders': 3241239, 'In the Shadow of the Moon': 1213329, 'Skylines': 1840094, 'Sturgill Simpson Presents Sound & Fury': 1915540, 'The Politician': 1019394, 'Weeds on Fire': 2273090, 'Much Loved': 3039852, 'Joseph: King of Dreams': 1734449, 'Malaal': 1926128, 'The Grandmaster': 2549410, 'The Inmate': 130965, 'The Hurricane Heist': 2191538, 'Def Comedy Jam 25': 1392697, 'Restless Creature: Wendy Whelan': 2474412, 'Print the Legend': 548250, 'Birders': 3478883, 'Furie': 2755115, 'Leap!': 1401638, 'Oh! Baby (Malayalam)': 839139, 'Oh! Baby (Tamil)': 2691505, 'USS Indianapolis: Men of Courage': 3286014, 'A Wrinkle in Time': 1258861, 'Teach Us All': 2428947, 'White Island': 1152905, 'Inside Man: Most Wanted': 2812661, 'Jeff Dunham: Beside Himself': 2930368, 'China Salesman': 3377292, 'Swearnet: The Movie': 949689, 'The Bar': 620655, 'Manmadhudu 2': 1842761, 'Team Kaylie': 359856, 'Under the Eiffel Tower': 2298237, 'Audrie & Daisy': 1573055, 'Iliza Shlesinger: Confirmed Kills': 365220, 'BONDING': 1664242, 'Do Paise Ki Dhoop Chaar Aane Ki Baarish': 2770879, '20 Feet From Stardom': 2931730, 'In Darkness': 3248749, 'Gaga: Five Foot Two': 3719550, 'The Bad Batch': 3656264, 'SMOSH: The Movie': 3697506, 'King of Boys': 584112, 'Merry Men: The Real Yoruba Demons': 2035595, \"Sarah's Key\": 1337902, 'The Wedding Party 2: Destination Dubai': 1471204, 'Vagabond': 1600432, 'Battlefish': 723021, 'DRAGON PILOT: Hisone & Masotan': 602919, 'Hilda': 54948, 'Maniac': 1348196, 'Quincy': 2601704, 'Rafinha Bastos: Ultimatum': 3469996, 'The Good Cop': 2265521, 'Between Two Ferns: The Movie': 3146508, 'Criminal: France': 2021409, 'Criminal: Germany': 658824, 'Criminal: Spain': 3078634, 'Criminal: UK': 2721398, 'Daddy Issues': 2119035, \"Inside Bill's Brain: Decoding Bill Gates\": 1755104, 'The Hockey Girls': 2000507, 'Travel Mates 2': 707260, 'True: Tricky Treat Day': 3213199, 'Two Sentence Horror Stories': 2438329, 'Mad World': 2281773, 'Mobile Suit Gundam UC': 778879, 'The Bund': 1729892, 'The First Line': 674591, 'Maynard': 84986, 'Monkey Twins': 3277179, 'Bitcoin Heist': 1450158, 'I Am Not Madame Bovary': 2763830, 'Vincent N Roxxy': 1961810, \"Chef's Table: France\": 2065738}\n",
    "netflix_last_week = {'The Debt Collector': 229218, 'Act of Vengeance': 191468, 'Paradise Lost': 167846, \"Gerald's Game\": 113298, 'Long Shot': 15190, 'Mak Cun': 244581, 'Our Souls at Night': 188095, 'Out of Thin Air': 183961, \"Paul Hollywood's Big Continental Road Trip\": 207967, 'Satu Hari': 226211, 'Monster High: Boo York, Boo York': 265919, 'Cultivating the Seas: History and Future of the Full-Cycle Cultured Kindai Tuna': 192246, 'Domino': 190538, 'TUNA GIRL': 301819, '5CM': 154371, 'Animal World': 228227, 'Hold the Dark': 222938, 'Lessons from a School Shooting: Notes from Dunblane': 256580, 'Made in Mexico': 199790, 'Single': 155517, 'The 3rd Eye': 251349, 'The Sinking Of Van Der Wijck': 153797, 'Two Catalonias': 189422, 'Bobby Sands: 66 Days': 202461, 'Bard of Blood': 241928, 'Deliha 2': 304552, 'Dragons: Rescue Riders': 155149, 'In the Shadow of the Moon': 222999, 'Skylines': 118737, 'Sturgill Simpson Presents Sound & Fury': 43590, 'The Politician': 11902, 'Weeds on Fire': 243382, 'Much Loved': 190123, 'Joseph: King of Dreams': 46104, 'Malaal': 70961, 'The Grandmaster': 44908, 'The Inmate': 19574, 'The Hurricane Heist': 167696, 'Def Comedy Jam 25': 208075, 'Restless Creature: Wendy Whelan': 22976, 'Print the Legend': 161584, 'Birders': 257668, 'Furie': 282266, 'Leap!': 124338, 'Oh! Baby (Malayalam)': 18203, 'Oh! Baby (Tamil)': 131481, 'USS Indianapolis: Men of Courage': 76558, 'A Wrinkle in Time': 169365, 'Teach Us All': 50378, 'White Island': 299779, 'Inside Man: Most Wanted': 123346, 'Jeff Dunham: Beside Himself': 283561, 'China Salesman': 182041, 'Swearnet: The Movie': 63809, 'The Bar': 41243, 'Manmadhudu 2': 261349, 'Team Kaylie': 101283, 'Under the Eiffel Tower': 83650, 'Audrie & Daisy': 106092, 'Iliza Shlesinger: Confirmed Kills': 255103, 'BONDING': 202683, 'Do Paise Ki Dhoop Chaar Aane Ki Baarish': 32329, '20 Feet From Stardom': 165178, 'In Darkness': 95259, 'Gaga: Five Foot Two': 36638, 'The Bad Batch': 197820, 'SMOSH: The Movie': 196519, 'King of Boys': 49332, 'Merry Men: The Real Yoruba Demons': 293229, \"Sarah's Key\": 178523, 'The Wedding Party 2: Destination Dubai': 51211, 'Vagabond': 116831, 'Battlefish': 5448, 'DRAGON PILOT: Hisone & Masotan': 281873, 'Hilda': 21348, 'Maniac': 268187, 'Quincy': 139696, 'Rafinha Bastos: Ultimatum': 105449, 'The Good Cop': 73230, 'Between Two Ferns: The Movie': 135600, 'Criminal: France': 243469, 'Criminal: Germany': 285211, 'Criminal: Spain': 45184, 'Criminal: UK': 117056, 'Daddy Issues': 267329, \"Inside Bill's Brain: Decoding Bill Gates\": 64083, 'The Hockey Girls': 114146, 'Travel Mates 2': 21088, 'True: Tricky Treat Day': 116504, 'Two Sentence Horror Stories': 274471, 'Mad World': 225244, 'Mobile Suit Gundam UC': 47306, 'The Bund': 146872, 'The First Line': 148861, 'Maynard': 87252, 'Monkey Twins': 199274, 'Bitcoin Heist': 41105, 'I Am Not Madame Bovary': 57841, 'Vincent N Roxxy': 207453, \"Chef's Table: France\": 200536}\n",
    "\n",
    "\n",
    "\n",
    "updated_list = {}\n",
    "for key in netflix:\n",
    "    if key in netflix_last_week:\n",
    "        updated_list[key]=netflix[key]+netflix_last_week[key]\n",
    "\n",
    "max_views = max(updated_list,key=(lambda x:updated_list[x]))\n",
    "print(max_views)"
   ]
  },
  {
   "cell_type": "code",
   "execution_count": 7,
   "metadata": {},
   "outputs": [
    {
     "name": "stdout",
     "output_type": "stream",
     "text": [
      "125.0\n"
     ]
    }
   ],
   "source": [
    "y = 1.25 \n",
    "x = 20/100 \n",
    "total = y * 500 * x\n",
    "print(total)"
   ]
  },
  {
   "cell_type": "code",
   "execution_count": 1,
   "metadata": {},
   "outputs": [],
   "source": [
    "#Import tkinter library\n",
    "from tkinter import *\n",
    "#Create an instance of Tkinter frame or window\n",
    "win= Tk()\n",
    "#Set the geometry of tkinter frame\n",
    "win.geometry(\"750x250\")\n",
    "def callback():\n",
    "   Label(win, text=\"Hello World!\", font=('Century 20 bold')).pack(pady=4)\n",
    "#Create a Label and a Button widget\n",
    "btn=Button(win, text=\"Press Enter\", command= callback)\n",
    "btn.pack(ipadx=10)\n",
    "win.bind('<Return>',lambda event:callback())\n",
    "win.mainloop()"
   ]
  },
  {
   "cell_type": "code",
   "execution_count": 14,
   "metadata": {},
   "outputs": [
    {
     "name": "stdout",
     "output_type": "stream",
     "text": [
      "12.22\n",
      "116.60\n"
     ]
    }
   ],
   "source": [
    "def tempfeh_cel(fahrenheit):\n",
    "    celsius = (fahrenheit - 32) / 1.8\n",
    "    return '%.2f'%celsius\n",
    "def tempcel_feh(celsius):\n",
    "    feh = (celsius * 1.8 ) + 32\n",
    "    return '%.2f'%feh\n",
    "print(tempfeh_cel(54))\n",
    "print(tempcel_feh(47))\n",
    "\n",
    "    "
   ]
  },
  {
   "cell_type": "code",
   "execution_count": 6,
   "metadata": {},
   "outputs": [
    {
     "name": "stdout",
     "output_type": "stream",
     "text": [
      "ab\n"
     ]
    }
   ],
   "source": [
    "s = 'a' + 'b'\n",
    "print(s)"
   ]
  }
 ],
 "metadata": {
  "interpreter": {
   "hash": "055552fb2dd9d3ff8dba379c41af142da6cdf2a03908e46de68d8a297aa695e0"
  },
  "kernelspec": {
   "display_name": "Python 3 (ipykernel)",
   "language": "python",
   "name": "python3"
  },
  "language_info": {
   "codemirror_mode": {
    "name": "ipython",
    "version": 3
   },
   "file_extension": ".py",
   "mimetype": "text/x-python",
   "name": "python",
   "nbconvert_exporter": "python",
   "pygments_lexer": "ipython3",
   "version": "3.9.7"
  }
 },
 "nbformat": 4,
 "nbformat_minor": 2
}
