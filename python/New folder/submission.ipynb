{
 "cells": [
  {
   "cell_type": "code",
   "execution_count": 1,
   "metadata": {},
   "outputs": [
    {
     "name": "stdout",
     "output_type": "stream",
     "text": [
      "Element is found at index 2\n"
     ]
    }
   ],
   "source": [
    "l1=list(range(0,101,2))\n",
    "\n",
    "x=int(input(\"Enter the Element which you want to search:  \"))\n",
    "\n",
    "def binary_search(l1, x):\n",
    "    low = 0\n",
    "    high = len(l1) - 1\n",
    "    mid = 0\n",
    "\n",
    "    while low <= high:\n",
    "\n",
    "        mid = (high + low) // 2\n",
    "\n",
    "        # If x is greater, ignore left half\n",
    "        if l1[mid] < x:\n",
    "            low = mid + 1\n",
    "\n",
    "        # If x is smaller, ignore right half\n",
    "        elif l1[mid] > x:\n",
    "            high = mid - 1\n",
    "\n",
    "        # means x is present at mid\n",
    "        else:\n",
    "            return mid\n",
    "\n",
    "    # If we reach here, then the element was not present\n",
    "    return -1\n",
    "\n",
    "\n",
    "# Function call\n",
    "result = binary_search(l1, x)\n",
    "\n",
    "if result != -1:\n",
    "    print(\"Element is found at index\", str(result))\n",
    "else:\n",
    "    print(\"Element is not present in array\")"
   ]
  },
  {
   "cell_type": "code",
   "execution_count": null,
   "metadata": {},
   "outputs": [],
   "source": []
  }
 ],
 "metadata": {
  "interpreter": {
   "hash": "2be5faf79681da6f2a61fdfdd5405d65d042280f7fba6178067603e3a2925119"
  },
  "kernelspec": {
   "display_name": "Python 3.10.2 64-bit",
   "language": "python",
   "name": "python3"
  },
  "language_info": {
   "codemirror_mode": {
    "name": "ipython",
    "version": 3
   },
   "file_extension": ".py",
   "mimetype": "text/x-python",
   "name": "python",
   "nbconvert_exporter": "python",
   "pygments_lexer": "ipython3",
   "version": "3.9.7"
  },
  "orig_nbformat": 4
 },
 "nbformat": 4,
 "nbformat_minor": 2
}
