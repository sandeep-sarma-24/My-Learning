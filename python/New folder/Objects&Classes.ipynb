{
 "cells": [
  {
   "cell_type": "code",
   "execution_count": 5,
   "metadata": {},
   "outputs": [
    {
     "name": "stdout",
     "output_type": "stream",
     "text": [
      "35\n",
      "85\n",
      "True\n",
      "False\n"
     ]
    }
   ],
   "source": [
    "# we can access these attributes from this type of method too without constructor, But it is usually wrong\n",
    "\n",
    "class Student:\n",
    "    def pass_fail(self):\n",
    "        if self.marks >= 40:\n",
    "            return True \n",
    "        else:\n",
    "            return False\n",
    "\n",
    "Student1 = Student()\n",
    "\n",
    "Student1.name = \"Harry\"\n",
    "Student1.marks = 85\n",
    "\n",
    "Student2 = Student()\n",
    "\n",
    "Student2.name = \"Sandeep\"\n",
    "Student2.marks = 35\n",
    "\n",
    "print(Student2.marks)\n",
    "print(Student1.marks)\n",
    "\n",
    "\n",
    "\n",
    "did_pass1 = Student1.pass_fail()\n",
    "print(did_pass1)\n",
    "did_pass2 = Student2.pass_fail()\n",
    "print(did_pass2)\n",
    "\n"
   ]
  },
  {
   "cell_type": "code",
   "execution_count": 6,
   "metadata": {},
   "outputs": [
    {
     "name": "stdout",
     "output_type": "stream",
     "text": [
      "True\n"
     ]
    }
   ],
   "source": [
    "# accessing attributes with the constructor (__init__) method\n",
    "\n",
    "class Student(): \n",
    "    def __init__(self ,name , marks):\n",
    "        self.name = name \n",
    "        self.marks = marks\n",
    "    \n",
    "    def pass_fail(self):\n",
    "        if self.marks >= 40:\n",
    "            return True \n",
    "        else:\n",
    "            return False\n",
    "\n",
    "Student1 = Student(\"Sandeep\", 45)\n",
    "Student2 = Student(\"Rohan\", 41)\n",
    "\n",
    "did_pass1 = Student1.pass_fail()\n",
    "print(did_pass1)\n",
    "\n",
    "\n"
   ]
  },
  {
   "cell_type": "code",
   "execution_count": 9,
   "metadata": {},
   "outputs": [
    {
     "name": "stdout",
     "output_type": "stream",
     "text": [
      "real =  2\n",
      "imagine =  6\n"
     ]
    }
   ],
   "source": [
    "# imaginary numbers \n",
    "\n",
    "class complex: \n",
    "    def __init__(self, real , imag):\n",
    "        self.real = real \n",
    "        self.imag = imag \n",
    "\n",
    "    def add(self , number):\n",
    "        real = self.real + number.real\n",
    "        imag = self.imag + number.imag\n",
    "        \n",
    "        result = complex(real,imag)\n",
    "        return result\n",
    "\n",
    "n1 = complex(5,1)\n",
    "n2 = complex(-3,5)\n",
    "\n",
    "result = n1.add(n2)\n",
    "print(\"real = \", result.real)\n",
    "print(\"imagine = \" , result.imag)\n"
   ]
  },
  {
   "cell_type": "code",
   "execution_count": 16,
   "metadata": {},
   "outputs": [
    {
     "name": "stdout",
     "output_type": "stream",
     "text": [
      "11\n",
      "8\n"
     ]
    }
   ],
   "source": [
    "class triangle: \n",
    "    def __init__(self, a ,b, c):\n",
    "        self.a = a \n",
    "        self.b = b \n",
    "        self.c = c \n",
    "\n",
    "    def total_Perimeter(self): \n",
    "        perimeter = self.a + self.b + self.c\n",
    "        return perimeter\n",
    "\n",
    "tri1 = triangle(4,2,5)\n",
    "tri2 = triangle(2,5,1)\n",
    "\n",
    "total = tri1.total_Perimeter()\n",
    "print(total)\n",
    "total = tri2.total_Perimeter()\n",
    "print(total)"
   ]
  },
  {
   "cell_type": "code",
   "execution_count": 18,
   "metadata": {},
   "outputs": [
    {
     "name": "stdout",
     "output_type": "stream",
     "text": [
      "I can bark\n",
      "I can eat\n"
     ]
    }
   ],
   "source": [
    "# inheritance \n",
    "\n",
    "class animal:\n",
    "    def eat(self):\n",
    "        print(\"I can eat\")\n",
    "\n",
    "class dog(animal):\n",
    "    def bark(self):\n",
    "        print(\"I can bark\")\n",
    "\n",
    "dog1 = dog()\n",
    "dog1.bark() # ==> deriving from the dog class\n",
    "dog1.eat() # ==> deriving from the animal class (Inheritance)"
   ]
  }
 ],
 "metadata": {
  "interpreter": {
   "hash": "2be5faf79681da6f2a61fdfdd5405d65d042280f7fba6178067603e3a2925119"
  },
  "kernelspec": {
   "display_name": "Python 3.10.2 64-bit",
   "language": "python",
   "name": "python3"
  },
  "language_info": {
   "codemirror_mode": {
    "name": "ipython",
    "version": 3
   },
   "file_extension": ".py",
   "mimetype": "text/x-python",
   "name": "python",
   "nbconvert_exporter": "python",
   "pygments_lexer": "ipython3",
   "version": "3.9.7"
  },
  "orig_nbformat": 4
 },
 "nbformat": 4,
 "nbformat_minor": 2
}
