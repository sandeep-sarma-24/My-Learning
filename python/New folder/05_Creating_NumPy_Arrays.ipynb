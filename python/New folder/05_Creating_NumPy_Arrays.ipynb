{
 "cells": [
  {
   "cell_type": "markdown",
   "metadata": {},
   "source": [
    "# Creating NumPy Arrays \n",
    "\n",
    "There are multiple ways to create numpy arrays, the most commmon ones being:\n",
    "* Convert lists or tuples to arrays using ```np.array()```\n",
    "* Initialise arrays of fixed size (when the size is known) "
   ]
  },
  {
   "cell_type": "markdown",
   "metadata": {},
   "source": [
    "The following ways are commonly used:\n",
    "* ```np.ones()```: Create array of 1s\n",
    "* ```np.zeros()```: Create array of 0s\n",
    "* ```np.arange()```: Create array with increments of a fixed step size\n",
    "* ```np.linspace()```: Create array of fixed length"
   ]
  },
  {
   "cell_type": "code",
   "execution_count": 46,
   "metadata": {},
   "outputs": [],
   "source": [
    "# importing the NumPy library\n",
    "\n",
    "import numpy as np"
   ]
  },
  {
   "cell_type": "code",
   "execution_count": 47,
   "metadata": {},
   "outputs": [],
   "source": [
    "# creating an array with 4 elements and increments of a fixed step size\n",
    "# default step size is one\n",
    "np_1 = np.arange(1,5)\n",
    "\n",
    "\n",
    "# creating an array of zeroes with 5 elements\n",
    "np_2 = np.zeros(5)"
   ]
  },
  {
   "cell_type": "code",
   "execution_count": 48,
   "metadata": {},
   "outputs": [
    {
     "name": "stdout",
     "output_type": "stream",
     "text": [
      "[1 2 3 4]\n"
     ]
    }
   ],
   "source": [
    "# checking the created array: np_1\n",
    "print(np_1)"
   ]
  },
  {
   "cell_type": "code",
   "execution_count": 49,
   "metadata": {},
   "outputs": [
    {
     "name": "stdout",
     "output_type": "stream",
     "text": [
      "[0. 0. 0. 0. 0.]\n"
     ]
    }
   ],
   "source": [
    "# checking the created array:np_2\n",
    "print(np_2)"
   ]
  },
  {
   "cell_type": "code",
   "execution_count": 50,
   "metadata": {},
   "outputs": [
    {
     "data": {
      "text/plain": [
       "dtype('float64')"
      ]
     },
     "execution_count": 50,
     "metadata": {},
     "output_type": "execute_result"
    }
   ],
   "source": [
    "# data type of np_2\n",
    "np_2.dtype"
   ]
  },
  {
   "cell_type": "code",
   "execution_count": 51,
   "metadata": {},
   "outputs": [
    {
     "data": {
      "text/plain": [
       "array([0, 0, 0, 0, 0])"
      ]
     },
     "execution_count": 51,
     "metadata": {},
     "output_type": "execute_result"
    }
   ],
   "source": [
    "# specifying the data type of the array in the provided attribute\n",
    "np.zeros(5, dtype = \"int\")\n"
   ]
  },
  {
   "cell_type": "code",
   "execution_count": 52,
   "metadata": {},
   "outputs": [
    {
     "ename": "ValueError",
     "evalue": "operands could not be broadcast together with shapes (4,) (5,) ",
     "output_type": "error",
     "traceback": [
      "\u001b[1;31m---------------------------------------------------------------------------\u001b[0m",
      "\u001b[1;31mValueError\u001b[0m                                Traceback (most recent call last)",
      "\u001b[1;32m~\\AppData\\Local\\Temp/ipykernel_5368/418028498.py\u001b[0m in \u001b[0;36m<module>\u001b[1;34m\u001b[0m\n\u001b[0;32m      1\u001b[0m \u001b[1;31m# adding the two arrays: np_1 and np_2\u001b[0m\u001b[1;33m\u001b[0m\u001b[1;33m\u001b[0m\u001b[0m\n\u001b[1;32m----> 2\u001b[1;33m \u001b[0mprint\u001b[0m\u001b[1;33m(\u001b[0m\u001b[0mnp_1\u001b[0m \u001b[1;33m+\u001b[0m \u001b[0mnp_2\u001b[0m\u001b[1;33m)\u001b[0m\u001b[1;33m\u001b[0m\u001b[1;33m\u001b[0m\u001b[0m\n\u001b[0m",
      "\u001b[1;31mValueError\u001b[0m: operands could not be broadcast together with shapes (4,) (5,) "
     ]
    }
   ],
   "source": [
    "# adding the two arrays: np_1 and np_2\n",
    "print(np_1 + np_2)"
   ]
  },
  {
   "cell_type": "code",
   "execution_count": null,
   "metadata": {},
   "outputs": [],
   "source": [
    "# check the dimension of the arrays\n",
    "# array np_1\n",
    "np_1.size"
   ]
  },
  {
   "cell_type": "code",
   "execution_count": null,
   "metadata": {},
   "outputs": [],
   "source": [
    "# check the dimension of the arrays\n",
    "# array np_2\n",
    "np_2.size"
   ]
  },
  {
   "cell_type": "code",
   "execution_count": null,
   "metadata": {},
   "outputs": [],
   "source": [
    "# creating a third array with all the 5 elements as ones\n",
    "\n",
    "np_3 = np.ones(5)\n",
    "\n",
    "# checking the created array:np_3\n",
    "print(np_3)"
   ]
  },
  {
   "cell_type": "code",
   "execution_count": null,
   "metadata": {},
   "outputs": [],
   "source": []
  },
  {
   "cell_type": "code",
   "execution_count": null,
   "metadata": {},
   "outputs": [],
   "source": [
    "# check the dimension of the arrays\n",
    "# array np_2\n",
    "np_3.size\n"
   ]
  },
  {
   "cell_type": "code",
   "execution_count": null,
   "metadata": {},
   "outputs": [],
   "source": [
    "print(np_2 + np_3)"
   ]
  },
  {
   "cell_type": "code",
   "execution_count": null,
   "metadata": {},
   "outputs": [],
   "source": [
    "# subtracting the array np_3 from array np_2\n",
    "\n",
    "print(np_2 - np_3)"
   ]
  },
  {
   "cell_type": "code",
   "execution_count": null,
   "metadata": {},
   "outputs": [],
   "source": [
    "# creating an array of fixed length\n",
    "np_4 = np.linspace(1,10,4)\n",
    "\n",
    "# checking the created array:np_4\n",
    "print(np_4)"
   ]
  },
  {
   "cell_type": "code",
   "execution_count": null,
   "metadata": {},
   "outputs": [],
   "source": [
    "# checking the created array:np_1\n",
    "np_1"
   ]
  },
  {
   "cell_type": "code",
   "execution_count": null,
   "metadata": {},
   "outputs": [],
   "source": [
    "# squaring the terms of np_1\n",
    "np.power(np_1, 3)"
   ]
  },
  {
   "cell_type": "code",
   "execution_count": null,
   "metadata": {},
   "outputs": [],
   "source": [
    "# getting the absolute value of the elements\n",
    "np.absolute(np.array([1,5,-32,-523,0]))"
   ]
  },
  {
   "cell_type": "code",
   "execution_count": null,
   "metadata": {},
   "outputs": [],
   "source": [
    "# np.sin()\n",
    "# np.cos()"
   ]
  },
  {
   "cell_type": "code",
   "execution_count": null,
   "metadata": {},
   "outputs": [],
   "source": [
    "# np.log()"
   ]
  },
  {
   "cell_type": "markdown",
   "metadata": {},
   "source": [
    "### Empty arrays"
   ]
  },
  {
   "cell_type": "code",
   "execution_count": null,
   "metadata": {},
   "outputs": [],
   "source": [
    "# Creating empty arrays\n",
    "\n",
    "x = np.arange(1, 6, dtype = \"int\")\n",
    "y = np.empty(5, dtype = \"int\")\n",
    "\n",
    "# filling the empty array\n",
    "np.multiply(x, 10, out = y)"
   ]
  },
  {
   "cell_type": "code",
   "execution_count": null,
   "metadata": {},
   "outputs": [],
   "source": [
    "# printing the output obtained above\n",
    "y"
   ]
  },
  {
   "cell_type": "code",
   "execution_count": null,
   "metadata": {},
   "outputs": [],
   "source": []
  },
  {
   "cell_type": "code",
   "execution_count": null,
   "metadata": {},
   "outputs": [],
   "source": []
  },
  {
   "cell_type": "markdown",
   "metadata": {},
   "source": [
    "### Aggregation of array elements"
   ]
  },
  {
   "cell_type": "code",
   "execution_count": null,
   "metadata": {},
   "outputs": [],
   "source": [
    "# Reducing the elements to a single value based on addition\n",
    "x = np.arange(1,6)\n",
    "np.add.reduce(x)"
   ]
  },
  {
   "cell_type": "code",
   "execution_count": null,
   "metadata": {},
   "outputs": [],
   "source": [
    "# Cummulative addition of elements at each element\n",
    "np.add.accumulate(x) #it gives about the finonnaci series"
   ]
  },
  {
   "cell_type": "code",
   "execution_count": null,
   "metadata": {},
   "outputs": [],
   "source": [
    "np.linalg"
   ]
  },
  {
   "cell_type": "code",
   "execution_count": null,
   "metadata": {},
   "outputs": [],
   "source": [
    "help(np.linalg)"
   ]
  },
  {
   "cell_type": "markdown",
   "metadata": {},
   "source": [
    "## Additional functions to initialize arrays in NumPy\n",
    "\n",
    "Apart from the methods mentioned above, there are a few more NumPy functions that you can use to create special NumPy arrays:\n",
    "\n",
    "-  `np.full()`: Create a constant array of any number ‘n’\n",
    "-  `np.tile()`: Create a new array by repeating an existing array for a particular number of times\n",
    "-  `np.eye()`: Create an identity matrix of any dimension\n",
    "* ```np.random.random()```: Create array of random numbers between 0 and 1\n",
    "-  `np.random.randint()`: Create a random array of integers within a particular range"
   ]
  },
  {
   "cell_type": "code",
   "execution_count": 53,
   "metadata": {},
   "outputs": [
    {
     "data": {
      "text/plain": [
       "array([[7, 7, 7],\n",
       "       [7, 7, 7],\n",
       "       [7, 7, 7],\n",
       "       [7, 7, 7]])"
      ]
     },
     "execution_count": 53,
     "metadata": {},
     "output_type": "execute_result"
    }
   ],
   "source": [
    "# Creating a 4 x 3 array of 7s using np.full()\n",
    "# The default data type here is int only\n",
    "np.full((4,3), 7)"
   ]
  },
  {
   "cell_type": "code",
   "execution_count": 54,
   "metadata": {},
   "outputs": [
    {
     "data": {
      "text/plain": [
       "array([0, 1, 2, 0, 1, 2, 0, 1, 2])"
      ]
     },
     "execution_count": 54,
     "metadata": {},
     "output_type": "execute_result"
    }
   ],
   "source": [
    "# Given an array, np.tile() creates a new array by repeating the given array for any number of times that you want\n",
    "# The default data type her is int only\n",
    "arr = ([0, 1, 2])\n",
    "np.tile(arr, 3)"
   ]
  },
  {
   "cell_type": "code",
   "execution_count": 55,
   "metadata": {},
   "outputs": [
    {
     "data": {
      "text/plain": [
       "array([[0, 1, 2, 0, 1, 2],\n",
       "       [0, 1, 2, 0, 1, 2],\n",
       "       [0, 1, 2, 0, 1, 2]])"
      ]
     },
     "execution_count": 55,
     "metadata": {},
     "output_type": "execute_result"
    }
   ],
   "source": [
    "# You can also create multidimensional arrays using np.tile()\n",
    "np.tile(arr, (3,2))"
   ]
  },
  {
   "cell_type": "code",
   "execution_count": 56,
   "metadata": {},
   "outputs": [
    {
     "data": {
      "text/plain": [
       "array([[1, 0, 0],\n",
       "       [0, 1, 0],\n",
       "       [0, 0, 1]])"
      ]
     },
     "execution_count": 56,
     "metadata": {},
     "output_type": "execute_result"
    }
   ],
   "source": [
    "# Create a 3 x 3 identity matrix using np.eye()\n",
    "# The default data type here is float. So if we want integer values, we need to specify the dtype to be int\n",
    "np.eye(3, dtype = int)"
   ]
  },
  {
   "cell_type": "code",
   "execution_count": 57,
   "metadata": {},
   "outputs": [
    {
     "data": {
      "text/plain": [
       "array([[0.10990561, 0.64207698, 0.7692931 , 0.64571613],\n",
       "       [0.10359601, 0.23339482, 0.90449379, 0.64045304],\n",
       "       [0.03453567, 0.54319698, 0.67475048, 0.99510668]])"
      ]
     },
     "execution_count": 57,
     "metadata": {},
     "output_type": "execute_result"
    }
   ],
   "source": [
    "# Create a 3 x 3 array of random numbers between 0 and 1\n",
    "np.random.random([3, 4])"
   ]
  },
  {
   "cell_type": "code",
   "execution_count": 58,
   "metadata": {},
   "outputs": [
    {
     "data": {
      "text/plain": [
       "array([[7, 0, 9, 4],\n",
       "       [7, 8, 3, 3],\n",
       "       [4, 8, 9, 7],\n",
       "       [5, 4, 6, 2]])"
      ]
     },
     "execution_count": 58,
     "metadata": {},
     "output_type": "execute_result"
    }
   ],
   "source": [
    "# Create a 4 x 4 random array of integers ranging from 0 to 9\n",
    "np.random.randint(0, 10, (4,4))"
   ]
  },
  {
   "cell_type": "code",
   "execution_count": null,
   "metadata": {},
   "outputs": [],
   "source": []
  }
 ],
 "metadata": {
  "kernelspec": {
   "display_name": "Python 3 (ipykernel)",
   "language": "python",
   "name": "python3"
  },
  "language_info": {
   "codemirror_mode": {
    "name": "ipython",
    "version": 3
   },
   "file_extension": ".py",
   "mimetype": "text/x-python",
   "name": "python",
   "nbconvert_exporter": "python",
   "pygments_lexer": "ipython3",
   "version": "3.9.7"
  }
 },
 "nbformat": 4,
 "nbformat_minor": 2
}
