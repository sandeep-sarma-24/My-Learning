{
 "cells": [
  {
   "cell_type": "code",
   "execution_count": 5,
   "id": "b54b5e92",
   "metadata": {},
   "outputs": [],
   "source": [
    "# Data Frames "
   ]
  },
  {
   "cell_type": "code",
   "execution_count": 6,
   "id": "edbd03fc",
   "metadata": {},
   "outputs": [],
   "source": [
    "import pandas as pd \n",
    "import numpy as np "
   ]
  },
  {
   "cell_type": "code",
   "execution_count": 7,
   "id": "1ccf4298",
   "metadata": {},
   "outputs": [],
   "source": [
    "cars_cap = [922,2345,5,213,243,25,1235]\n",
    "country = ['US', 'Aus', 'Jap', 'Ind', 'Rus', 'Mor', 'Egy']"
   ]
  },
  {
   "cell_type": "code",
   "execution_count": 9,
   "id": "b7e7bba1",
   "metadata": {},
   "outputs": [
    {
     "data": {
      "text/html": [
       "<div>\n",
       "<style scoped>\n",
       "    .dataframe tbody tr th:only-of-type {\n",
       "        vertical-align: middle;\n",
       "    }\n",
       "\n",
       "    .dataframe tbody tr th {\n",
       "        vertical-align: top;\n",
       "    }\n",
       "\n",
       "    .dataframe thead th {\n",
       "        text-align: right;\n",
       "    }\n",
       "</style>\n",
       "<table border=\"1\" class=\"dataframe\">\n",
       "  <thead>\n",
       "    <tr style=\"text-align: right;\">\n",
       "      <th></th>\n",
       "      <th>cars_per_cap</th>\n",
       "      <th>Country</th>\n",
       "    </tr>\n",
       "  </thead>\n",
       "  <tbody>\n",
       "    <tr>\n",
       "      <th>0</th>\n",
       "      <td>922</td>\n",
       "      <td>US</td>\n",
       "    </tr>\n",
       "    <tr>\n",
       "      <th>1</th>\n",
       "      <td>2345</td>\n",
       "      <td>Aus</td>\n",
       "    </tr>\n",
       "    <tr>\n",
       "      <th>2</th>\n",
       "      <td>5</td>\n",
       "      <td>Jap</td>\n",
       "    </tr>\n",
       "    <tr>\n",
       "      <th>3</th>\n",
       "      <td>213</td>\n",
       "      <td>Ind</td>\n",
       "    </tr>\n",
       "    <tr>\n",
       "      <th>4</th>\n",
       "      <td>243</td>\n",
       "      <td>Rus</td>\n",
       "    </tr>\n",
       "    <tr>\n",
       "      <th>5</th>\n",
       "      <td>25</td>\n",
       "      <td>Mor</td>\n",
       "    </tr>\n",
       "    <tr>\n",
       "      <th>6</th>\n",
       "      <td>1235</td>\n",
       "      <td>Egy</td>\n",
       "    </tr>\n",
       "  </tbody>\n",
       "</table>\n",
       "</div>"
      ],
      "text/plain": [
       "   cars_per_cap Country\n",
       "0           922      US\n",
       "1          2345     Aus\n",
       "2             5     Jap\n",
       "3           213     Ind\n",
       "4           243     Rus\n",
       "5            25     Mor\n",
       "6          1235     Egy"
      ]
     },
     "execution_count": 9,
     "metadata": {},
     "output_type": "execute_result"
    }
   ],
   "source": [
    "cars_dict = {\"cars_per_cap\" : cars_cap, \"Country\" : country}\n",
    "cars = pd.DataFrame(cars_dict)\n",
    "cars"
   ]
  },
  {
   "cell_type": "code",
   "execution_count": null,
   "id": "062431a3",
   "metadata": {},
   "outputs": [],
   "source": [
    "# pd.read_csv(filepath, sep=',', header='infer')\n",
    "# You can specify the following details:\n",
    "\n",
    "# 1. separator (by default ‘,’)\n",
    "# 2. header (takes the top row by default, if not specified)\n",
    "# 3. names (list of column name)"
   ]
  },
  {
   "cell_type": "code",
   "execution_count": 13,
   "id": "e5c3f3f5",
   "metadata": {},
   "outputs": [
    {
     "data": {
      "text/html": [
       "<div>\n",
       "<style scoped>\n",
       "    .dataframe tbody tr th:only-of-type {\n",
       "        vertical-align: middle;\n",
       "    }\n",
       "\n",
       "    .dataframe tbody tr th {\n",
       "        vertical-align: top;\n",
       "    }\n",
       "\n",
       "    .dataframe thead th {\n",
       "        text-align: right;\n",
       "    }\n",
       "</style>\n",
       "<table border=\"1\" class=\"dataframe\">\n",
       "  <thead>\n",
       "    <tr style=\"text-align: right;\">\n",
       "      <th></th>\n",
       "      <th>Market</th>\n",
       "      <th>No_of_Orders</th>\n",
       "      <th>Profit</th>\n",
       "      <th>Sales</th>\n",
       "    </tr>\n",
       "    <tr>\n",
       "      <th>Region</th>\n",
       "      <th></th>\n",
       "      <th></th>\n",
       "      <th></th>\n",
       "      <th></th>\n",
       "    </tr>\n",
       "  </thead>\n",
       "  <tbody>\n",
       "    <tr>\n",
       "      <th>Western Africa</th>\n",
       "      <td>Africa</td>\n",
       "      <td>251</td>\n",
       "      <td>-12901.51</td>\n",
       "      <td>78476.06</td>\n",
       "    </tr>\n",
       "    <tr>\n",
       "      <th>Southern Africa</th>\n",
       "      <td>Africa</td>\n",
       "      <td>85</td>\n",
       "      <td>11768.58</td>\n",
       "      <td>51319.50</td>\n",
       "    </tr>\n",
       "    <tr>\n",
       "      <th>North Africa</th>\n",
       "      <td>Africa</td>\n",
       "      <td>182</td>\n",
       "      <td>21643.08</td>\n",
       "      <td>86698.89</td>\n",
       "    </tr>\n",
       "    <tr>\n",
       "      <th>Eastern Africa</th>\n",
       "      <td>Africa</td>\n",
       "      <td>110</td>\n",
       "      <td>8013.04</td>\n",
       "      <td>44182.60</td>\n",
       "    </tr>\n",
       "    <tr>\n",
       "      <th>Central Africa</th>\n",
       "      <td>Africa</td>\n",
       "      <td>103</td>\n",
       "      <td>15606.30</td>\n",
       "      <td>61689.99</td>\n",
       "    </tr>\n",
       "  </tbody>\n",
       "</table>\n",
       "</div>"
      ],
      "text/plain": [
       "                 Market  No_of_Orders    Profit     Sales\n",
       "Region                                                   \n",
       "Western Africa   Africa           251 -12901.51  78476.06\n",
       "Southern Africa  Africa            85  11768.58  51319.50\n",
       "North Africa     Africa           182  21643.08  86698.89\n",
       "Eastern Africa   Africa           110   8013.04  44182.60\n",
       "Central Africa   Africa           103  15606.30  61689.99"
      ]
     },
     "execution_count": 13,
     "metadata": {},
     "output_type": "execute_result"
    }
   ],
   "source": [
    "sales = pd.read_excel(\"sales.xlsx\", index_col = 1)\n",
    "sales.head() # head function to see first 5 rows "
   ]
  },
  {
   "cell_type": "code",
   "execution_count": 14,
   "id": "046c428c",
   "metadata": {},
   "outputs": [
    {
     "data": {
      "text/html": [
       "<div>\n",
       "<style scoped>\n",
       "    .dataframe tbody tr th:only-of-type {\n",
       "        vertical-align: middle;\n",
       "    }\n",
       "\n",
       "    .dataframe tbody tr th {\n",
       "        vertical-align: top;\n",
       "    }\n",
       "\n",
       "    .dataframe thead th {\n",
       "        text-align: right;\n",
       "    }\n",
       "</style>\n",
       "<table border=\"1\" class=\"dataframe\">\n",
       "  <thead>\n",
       "    <tr style=\"text-align: right;\">\n",
       "      <th></th>\n",
       "      <th>Market</th>\n",
       "      <th>No_of_Orders</th>\n",
       "      <th>Profit</th>\n",
       "      <th>Sales</th>\n",
       "    </tr>\n",
       "    <tr>\n",
       "      <th>Region</th>\n",
       "      <th></th>\n",
       "      <th></th>\n",
       "      <th></th>\n",
       "      <th></th>\n",
       "    </tr>\n",
       "  </thead>\n",
       "  <tbody>\n",
       "    <tr>\n",
       "      <th>Western US</th>\n",
       "      <td>USCA</td>\n",
       "      <td>490</td>\n",
       "      <td>44303.65</td>\n",
       "      <td>251991.83</td>\n",
       "    </tr>\n",
       "    <tr>\n",
       "      <th>Southern US</th>\n",
       "      <td>USCA</td>\n",
       "      <td>255</td>\n",
       "      <td>19991.83</td>\n",
       "      <td>148771.91</td>\n",
       "    </tr>\n",
       "    <tr>\n",
       "      <th>Eastern US</th>\n",
       "      <td>USCA</td>\n",
       "      <td>443</td>\n",
       "      <td>47462.04</td>\n",
       "      <td>264973.98</td>\n",
       "    </tr>\n",
       "    <tr>\n",
       "      <th>Central US</th>\n",
       "      <td>USCA</td>\n",
       "      <td>356</td>\n",
       "      <td>33697.43</td>\n",
       "      <td>170416.31</td>\n",
       "    </tr>\n",
       "    <tr>\n",
       "      <th>Canada</th>\n",
       "      <td>USCA</td>\n",
       "      <td>49</td>\n",
       "      <td>7246.62</td>\n",
       "      <td>26298.81</td>\n",
       "    </tr>\n",
       "  </tbody>\n",
       "</table>\n",
       "</div>"
      ],
      "text/plain": [
       "            Market  No_of_Orders    Profit      Sales\n",
       "Region                                               \n",
       "Western US    USCA           490  44303.65  251991.83\n",
       "Southern US   USCA           255  19991.83  148771.91\n",
       "Eastern US    USCA           443  47462.04  264973.98\n",
       "Central US    USCA           356  33697.43  170416.31\n",
       "Canada        USCA            49   7246.62   26298.81"
      ]
     },
     "execution_count": 14,
     "metadata": {},
     "output_type": "execute_result"
    }
   ],
   "source": [
    "sales.tail() # tail function to see last 5 rows "
   ]
  },
  {
   "cell_type": "code",
   "execution_count": 15,
   "id": "c3c4e44c",
   "metadata": {},
   "outputs": [
    {
     "name": "stdout",
     "output_type": "stream",
     "text": [
      "<class 'pandas.core.frame.DataFrame'>\n",
      "Index: 23 entries, Western Africa to Canada\n",
      "Data columns (total 4 columns):\n",
      " #   Column        Non-Null Count  Dtype  \n",
      "---  ------        --------------  -----  \n",
      " 0   Market        23 non-null     object \n",
      " 1   No_of_Orders  23 non-null     int64  \n",
      " 2   Profit        23 non-null     float64\n",
      " 3   Sales         23 non-null     float64\n",
      "dtypes: float64(2), int64(1), object(1)\n",
      "memory usage: 920.0+ bytes\n"
     ]
    }
   ],
   "source": [
    "sales.info() # gives us the info/detail about the sales file"
   ]
  },
  {
   "cell_type": "code",
   "execution_count": null,
   "id": "e3ed687f",
   "metadata": {},
   "outputs": [],
   "source": []
  }
 ],
 "metadata": {
  "kernelspec": {
   "display_name": "Python 3 (ipykernel)",
   "language": "python",
   "name": "python3"
  },
  "language_info": {
   "codemirror_mode": {
    "name": "ipython",
    "version": 3
   },
   "file_extension": ".py",
   "mimetype": "text/x-python",
   "name": "python",
   "nbconvert_exporter": "python",
   "pygments_lexer": "ipython3",
   "version": "3.9.7"
  }
 },
 "nbformat": 4,
 "nbformat_minor": 5
}
