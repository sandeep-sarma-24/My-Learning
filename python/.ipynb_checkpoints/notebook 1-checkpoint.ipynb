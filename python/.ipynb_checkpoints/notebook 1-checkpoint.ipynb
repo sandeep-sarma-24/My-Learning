{
 "cells": [
  {
   "cell_type": "code",
   "execution_count": 1,
   "metadata": {},
   "outputs": [
    {
     "name": "stdout",
     "output_type": "stream",
     "text": [
      "welcome sandeep \n"
     ]
    }
   ],
   "source": [
    "#Accessing the inout from user \n",
    "name = input(\"Enter your name : \")\n",
    "print(\"welcome\" , name)"
   ]
  },
  {
   "cell_type": "code",
   "execution_count": 2,
   "metadata": {},
   "outputs": [
    {
     "data": {
      "text/plain": [
       "str"
      ]
     },
     "execution_count": 2,
     "metadata": {},
     "output_type": "execute_result"
    }
   ],
   "source": [
    "#type\n",
    "type(\"sdfjhdfkj\")"
   ]
  },
  {
   "cell_type": "code",
   "execution_count": 3,
   "metadata": {},
   "outputs": [
    {
     "data": {
      "text/plain": [
       "float"
      ]
     },
     "execution_count": 3,
     "metadata": {},
     "output_type": "execute_result"
    }
   ],
   "source": [
    "#type\n",
    "type(20.4134)"
   ]
  },
  {
   "cell_type": "code",
   "execution_count": 4,
   "metadata": {},
   "outputs": [
    {
     "name": "stdout",
     "output_type": "stream",
     "text": [
      "2.0\n",
      "<class 'int'>\n"
     ]
    }
   ],
   "source": [
    "#typecasting\n",
    "x = 2\n",
    "print( float(x) )\n",
    "print (type(x))\n"
   ]
  },
  {
   "cell_type": "code",
   "execution_count": 5,
   "metadata": {},
   "outputs": [
    {
     "name": "stdout",
     "output_type": "stream",
     "text": [
      "-2\n"
     ]
    }
   ],
   "source": [
    "#Calculation \n",
    "x = 4%(1+ 9)**2 - 60//(7+2)\n",
    "print(x)"
   ]
  },
  {
   "cell_type": "code",
   "execution_count": 6,
   "metadata": {},
   "outputs": [
    {
     "data": {
      "text/plain": [
       "'e'"
      ]
     },
     "execution_count": 6,
     "metadata": {},
     "output_type": "execute_result"
    }
   ],
   "source": [
    "#Accessing from the string\n",
    "string = \"Sadness\"\n",
    "string[2]\n",
    "#(-1) is the last postion of the string hence it is (s)\n",
    "string[-3]"
   ]
  },
  {
   "cell_type": "code",
   "execution_count": 7,
   "metadata": {},
   "outputs": [
    {
     "name": "stdout",
     "output_type": "stream",
     "text": [
      "Python \n",
      "programming is fun\n"
     ]
    }
   ],
   "source": [
    "#Slicing {format == string[start:end:step]}\n",
    "statement = \"Python programming is fun\"\n",
    "sliced = statement[0:7]\n",
    "print(sliced)\n",
    "\n",
    "sliced1 = statement[7:]\n",
    "print(sliced1)"
   ]
  },
  {
   "cell_type": "code",
   "execution_count": 8,
   "metadata": {},
   "outputs": [
    {
     "name": "stdout",
     "output_type": "stream",
     "text": [
      "True\n",
      "False\n"
     ]
    }
   ],
   "source": [
    "#Membership = to check the given value in the string \n",
    "string = \"hello World how are you\"\n",
    "print('hello' in string)\n",
    "\n",
    "print('david' in string)"
   ]
  },
  {
   "cell_type": "code",
   "execution_count": 9,
   "metadata": {},
   "outputs": [
    {
     "name": "stdout",
     "output_type": "stream",
     "text": [
      "10\n",
      "20\n"
     ]
    }
   ],
   "source": [
    "#Anonymous/Lambda functions\n",
    "double = lambda x : x*2 \n",
    "print(double(5))\n",
    "\n",
    "double = lambda y : y*(y-1) \n",
    "print(double(5))"
   ]
  },
  {
   "cell_type": "code",
   "execution_count": 10,
   "metadata": {},
   "outputs": [
    {
     "name": "stdout",
     "output_type": "stream",
     "text": [
      "3.141592653589793\n",
      "-1.0\n",
      "22026.465794806718\n",
      "3.0\n",
      "1.1752011936438014\n",
      "720\n"
     ]
    }
   ],
   "source": [
    "#Math functions\n",
    "\n",
    "import math as m\n",
    "\n",
    "print(m.pi)\n",
    "print(m.cos(m.pi))\n",
    "print(m.exp(10))\n",
    "print(m.log10(1000))\n",
    "print(m.sinh(1))\n",
    "print(m.factorial(6))"
   ]
  },
  {
   "cell_type": "code",
   "execution_count": 11,
   "metadata": {},
   "outputs": [
    {
     "name": "stdout",
     "output_type": "stream",
     "text": [
      "['python', 'Java', 'C', 'Kotlin']\n",
      "['python', 'Java', 'Html', 'Kotlin']\n",
      "True\n",
      "['python', 'Java', 'Html', 'Kotlin', 'PHP']\n",
      "['python', 'Java', 'C#', 'Html', 'Kotlin', 'PHP']\n",
      "['python', 'Java', 'C#', 'Html', 'PHP']\n"
     ]
    }
   ],
   "source": [
    "#Lists & Methods (these are muttables)\n",
    "languages = [\"python\", \"Java\" , \"C\", \"Kotlin\"]\n",
    "print(languages[:4])\n",
    "\n",
    "languages[2] = \"Html\"\n",
    "print(languages[:4])\n",
    "\n",
    "print(\"Java\" in languages)\n",
    "\n",
    "languages.append(\"PHP\")\n",
    "print(languages)\n",
    "\n",
    "languages.insert(2,\"C#\")\n",
    "print(languages)\n",
    "\n",
    "languages.remove(\"Kotlin\")\n",
    "print(languages)"
   ]
  },
  {
   "cell_type": "code",
   "execution_count": 12,
   "metadata": {},
   "outputs": [
    {
     "name": "stdout",
     "output_type": "stream",
     "text": [
      "(21, 3, 521, 23)\n"
     ]
    }
   ],
   "source": [
    "#tuples (these are immutable)\n",
    "number = (21,3,521,23)\n",
    "print(number)"
   ]
  },
  {
   "cell_type": "code",
   "execution_count": 13,
   "metadata": {},
   "outputs": [
    {
     "name": "stdout",
     "output_type": "stream",
     "text": [
      "{'cats', 'elepant', 'tiger', 'dogs'}\n",
      "set()\n",
      "{'monkey', 'cats', 'tiger', 'dogs', 'elepant'}\n",
      "{'monkey', 'cats', 'tiger', 'dogs', 'leopard', 'elepant'}\n",
      "{'monkey', 'cats', 'tiger', 'dogs', 'leopard', 'elepant'}\n",
      "{'leopard', 'tiger', 'monkey'}\n"
     ]
    }
   ],
   "source": [
    "#Sets \n",
    "animals = {\"dogs\", \"cats\", \"tiger\", \"elepant\"}\n",
    "print(animals) \n",
    "\n",
    "#Empty set \n",
    "animal = set()\n",
    "print(animal)\n",
    "\n",
    "#Adding element in set \n",
    "animals.add(\"monkey\")\n",
    "print(animals) \n",
    "\n",
    "#Merging sets \n",
    "wild_animals = {\"tiger\", \"leopard\", \"monkey\"}\n",
    "animals.update(wild_animals)\n",
    "print(animals) \n",
    "\n",
    "#Set Operations \n",
    "union = animals.union(wild_animals)\n",
    "print(union)\n",
    "\n",
    "inter = animals.intersection(wild_animals)\n",
    "print(inter)"
   ]
  },
  {
   "cell_type": "code",
   "execution_count": 14,
   "metadata": {},
   "outputs": [
    {
     "name": "stdout",
     "output_type": "stream",
     "text": [
      "{'name': 'Linus', 'age': 21}\n",
      "Linus\n",
      "{'name': 'Dennis', 'age': 21}\n",
      "{'name': 'Dennis', 'age': 21, 'hobbies': ['dancing', 'fishing']}\n",
      "{'age': 21, 'hobbies': ['dancing', 'fishing']}\n"
     ]
    }
   ],
   "source": [
    "#dictonaries (Associative Arrays) & methods \n",
    "person1 = {\"name\": \"Linus\", \"age\" : 21}\n",
    "print(person1)\n",
    "\n",
    "print(person1[\"name\"])\n",
    "\n",
    "person1[\"name\"] = \"Dennis\"\n",
    "print(person1)\n",
    "\n",
    "person1[\"hobbies\"] = [\"dancing\", \"fishing\"]\n",
    "print(person1)\n",
    "\n",
    "person1.pop(\"name\")\n",
    "print(person1) \n",
    "\n"
   ]
  },
  {
   "cell_type": "code",
   "execution_count": 15,
   "metadata": {},
   "outputs": [
    {
     "name": "stdout",
     "output_type": "stream",
     "text": [
      "['mango', 'orange', 'strawberry']\n",
      "None\n",
      "['mango', 'orange', 'strawberry']\n"
     ]
    }
   ],
   "source": [
    "#Sorted and Sort \n",
    "A = [\"orange\", \"strawberry\", \"mango\"]\n",
    "B = A.sort()\n",
    "C = sorted(A)\n",
    "print(A)\n",
    "print(B)\n",
    "print(A)"
   ]
  },
  {
   "cell_type": "code",
   "execution_count": 16,
   "metadata": {},
   "outputs": [
    {
     "ename": "FileNotFoundError",
     "evalue": "[Errno 2] No such file or directory: 'test.txt'",
     "output_type": "error",
     "traceback": [
      "\u001b[1;31m---------------------------------------------------------------------------\u001b[0m",
      "\u001b[1;31mFileNotFoundError\u001b[0m                         Traceback (most recent call last)",
      "\u001b[1;32m~\\AppData\\Local\\Temp/ipykernel_2388/3732108654.py\u001b[0m in \u001b[0;36m<module>\u001b[1;34m\u001b[0m\n\u001b[0;32m      1\u001b[0m \u001b[1;31m#File I/O\u001b[0m\u001b[1;33m\u001b[0m\u001b[1;33m\u001b[0m\u001b[1;33m\u001b[0m\u001b[0m\n\u001b[0;32m      2\u001b[0m \u001b[1;33m\u001b[0m\u001b[0m\n\u001b[1;32m----> 3\u001b[1;33m \u001b[0mf\u001b[0m \u001b[1;33m=\u001b[0m \u001b[0mopen\u001b[0m\u001b[1;33m(\u001b[0m\u001b[1;34m\"test.txt\"\u001b[0m\u001b[1;33m)\u001b[0m    \u001b[1;31m# open file in current directory\u001b[0m\u001b[1;33m\u001b[0m\u001b[1;33m\u001b[0m\u001b[0m\n\u001b[0m\u001b[0;32m      4\u001b[0m \u001b[0mf\u001b[0m \u001b[1;33m=\u001b[0m \u001b[0mopen\u001b[0m\u001b[1;33m(\u001b[0m\u001b[1;34m\"C:/Python38/README.txt\"\u001b[0m\u001b[1;33m)\u001b[0m  \u001b[1;31m# specifying full path\u001b[0m\u001b[1;33m\u001b[0m\u001b[1;33m\u001b[0m\u001b[0m\n\u001b[0;32m      5\u001b[0m \u001b[1;33m\u001b[0m\u001b[0m\n",
      "\u001b[1;31mFileNotFoundError\u001b[0m: [Errno 2] No such file or directory: 'test.txt'"
     ]
    }
   ],
   "source": [
    "#File I/O\n",
    "\n",
    "f = open(\"test.txt\")    # open file in current directory\n",
    "f = open(\"C:/Python38/README.txt\")  # specifying full path\n",
    "\n",
    "#Reading / writing / creating \n",
    "\n",
    "f = open(\"test.txt\")      # equivalent to 'r' or 'rt'\n",
    "f = open(\"test.txt\",'w')  # write in text mode\n",
    "f = open(\"img.bmp\",'r+b') # read and write in binary mode\n",
    "\n",
    "#Types of closing a file \n",
    "\n",
    "#1st method\n",
    "f.close() \n",
    "\n",
    "#2nd method\n",
    "try:\n",
    "   f = open(\"test.txt\", encoding = 'utf-8')\n",
    "   # perform file operations\n",
    "finally:\n",
    "   f.close()\n",
    "\n",
    "#3rd method\n",
    "\n",
    "with open(\"test.txt\", encoding = 'utf-8') as f:\n",
    "   # perform file operations\n",
    "\n",
    "#writing\n",
    "    f.write() "
   ]
  },
  {
   "cell_type": "code",
   "execution_count": null,
   "metadata": {},
   "outputs": [],
   "source": [
    "#directories \n",
    "\n",
    "import os #os library \n",
    "\n",
    "current_dir = os.getcwd()\n",
    "print(current_dir) #gets the current directory \n",
    "\n",
    "os.chdir() # changes the directory\n",
    "\n",
    "print(os.listdir()) # print all the directories / folders \n",
    "\n",
    "os.mkdir(\"test\") # creates a new directory \n",
    "\n",
    "os.rename(\"test\", \"test-new\") # renames a directory \n",
    "\n",
    "os.remove(\"test-new\") # removes a folder\n",
    "\n",
    "os.rmdir(\"test.dir\") # removes a directory "
   ]
  },
  {
   "cell_type": "code",
   "execution_count": null,
   "metadata": {},
   "outputs": [
    {
     "name": "stdout",
     "output_type": "stream",
     "text": [
      "Corey.Carter@company.com\n",
      "sandeep.sarma@company.com\n",
      "Sandeep.Sarma@company.com\n",
      "Corey.Schafer@company.com\n",
      "Corey Carter\n"
     ]
    }
   ],
   "source": [
    "#Classes and instances \n",
    "\n",
    "# Manual Assigning \n",
    "class Employee:\n",
    "    pass \n",
    "\n",
    "emp_1 = Employee()\n",
    "emp_2 = Employee()\n",
    "\n",
    "emp_1.first = \"Corey\"\n",
    "emp_1.last = \"Carter\"\n",
    "emp_1.pay = 50000\n",
    "emp_1.email = emp_1.first + \".\" + emp_1.last + \"@company.com\" \n",
    "\n",
    "emp_2.first = \"sandeep\"\n",
    "emp_2.last = \"sarma\"\n",
    "emp_2.pay = 80000\n",
    "emp_2.email = emp_2.first + \".\" + emp_2.last + \"@company.com\" \n",
    "\n",
    "print(emp_1.email)\n",
    "print(emp_2.email)\n",
    "\n",
    "#Automatic Assigning using __init__ method or (constructor method)\n",
    "\n",
    "class Student:\n",
    "\n",
    "    def __init__(self, first, last, pay):\n",
    "        self.first = first \n",
    "        self.last = last \n",
    "        self.pay = pay\n",
    "        self.email = first + \".\" + last + \"@company.com\" \n",
    "\n",
    "Stu_1 = Student(\"Sandeep\", \"Sarma\", 60000)\n",
    "Stu_2 = Student(\"Corey\", \"Schafer\", 50000)\n",
    "\n",
    "print(Stu_1.email)\n",
    "print(Stu_2.email)\n",
    "print(\"{} {}\".format(emp_1.first,emp_1.last))"
   ]
  },
  {
   "cell_type": "code",
   "execution_count": null,
   "metadata": {},
   "outputs": [
    {
     "name": "stdout",
     "output_type": "stream",
     "text": [
      "it works\n",
      "blue is a bird\n",
      "Bird is ready\n",
      "Penguin is ready\n",
      "Penguin\n"
     ]
    }
   ],
   "source": [
    "#Object-Oriented-Programming \n",
    "\n",
    "#Example 1\n",
    "class Something:\n",
    "    def out(self):\n",
    "        print(\"it works\")\n",
    "\n",
    "s = Something()\n",
    "s.out()\n",
    "\n",
    "#Example 2 \n",
    "class Parrot: \n",
    "    species = \"bird\"\n",
    "\n",
    "    def __init__(self, name, age):  #initializer method\n",
    "        self.name = name \n",
    "        self.age = age \n",
    "\n",
    "blue = Parrot(\"blue\", 10)\n",
    "black = Parrot(\"blacky\", 12)\n",
    "\n",
    "print(\"blue is a {}\".format(blue.__class__.species))\n",
    "\n",
    "#Inheritance \n",
    "\n",
    "class Bird: #parent class\n",
    "    def __init__(self):\n",
    "        print(\"Bird is ready\")\n",
    "    def whoisThis(self):\n",
    "        print(\"Bird\")\n",
    "\n",
    "class Penguin(Bird): #child class\n",
    "    def __init__(self):\n",
    "        super().__init__()\n",
    "        print(\"Penguin is ready\")\n",
    "    def whoisThis(self):\n",
    "        print(\"Penguin\")\n",
    "\n",
    "peggy = Penguin()\n",
    "peggy.whoisThis()\n",
    "\n",
    "#Encapsulation \n",
    "\n",
    "class Computer: \n",
    "    pass"
   ]
  },
  {
   "cell_type": "code",
   "execution_count": 30,
   "metadata": {},
   "outputs": [
    {
     "name": "stdout",
     "output_type": "stream",
     "text": [
      "['Python', 'R']\n"
     ]
    }
   ],
   "source": [
    "dict_1 = {'Python':40 , 'R':45}\n",
    "\n",
    "print(list(dict_1.keys()))"
   ]
  }
 ],
 "metadata": {
  "interpreter": {
   "hash": "055552fb2dd9d3ff8dba379c41af142da6cdf2a03908e46de68d8a297aa695e0"
  },
  "kernelspec": {
   "display_name": "Python 3 (ipykernel)",
   "language": "python",
   "name": "python3"
  },
  "language_info": {
   "codemirror_mode": {
    "name": "ipython",
    "version": 3
   },
   "file_extension": ".py",
   "mimetype": "text/x-python",
   "name": "python",
   "nbconvert_exporter": "python",
   "pygments_lexer": "ipython3",
   "version": "3.9.7"
  }
 },
 "nbformat": 4,
 "nbformat_minor": 2
}
