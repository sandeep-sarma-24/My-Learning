{
 "cells": [
  {
   "cell_type": "code",
   "execution_count": 43,
   "id": "d490235c",
   "metadata": {},
   "outputs": [],
   "source": [
    "# Constructor\n",
    "# we use( __init__ ) function for constructor\n",
    "#class Cookie:\n",
    " #   def __init__(self,color):\n",
    "  #      self.color = color"
   ]
  },
  {
   "cell_type": "code",
   "execution_count": 44,
   "id": "6db4ec43",
   "metadata": {},
   "outputs": [],
   "source": [
    "# Linked List Implementation"
   ]
  },
  {
   "cell_type": "code",
   "execution_count": 45,
   "id": "c424f18e",
   "metadata": {},
   "outputs": [],
   "source": [
    "# Node \n",
    "class Node:\n",
    "    def __init__(self, value):\n",
    "        self.value = value\n",
    "        self.next = None"
   ]
  },
  {
   "cell_type": "code",
   "execution_count": 46,
   "id": "572920d9",
   "metadata": {},
   "outputs": [],
   "source": [
    "# Linked list creatinon\n",
    "class LinkedList:\n",
    "    def __init__(self, value):\n",
    "        new_node = Node(value)\n",
    "        self.head = new_node # pointing head to the new node\n",
    "        self.tail = new_node # pointing tail to the new node \n",
    "        self.length = 1\n",
    "        \n",
    "# print the whole LinkedList \n",
    "    def print_list(self):\n",
    "        temp = self.head \n",
    "        while temp is not None: \n",
    "            print(temp.value)\n",
    "            temp = temp.next\n",
    "# appending a New Node \n",
    "    def append(self,value):\n",
    "        new_node = Node(value)\n",
    "        if self.head is None: \n",
    "            self.head = new_node \n",
    "            self.tail = new_node \n",
    "        else: \n",
    "            self.tail.next = new_node\n",
    "            self.tail = new_node \n",
    "        self.length += 1\n",
    "        return True\n",
    "# Popping an old Node \n",
    "    def pop(self):\n",
    "        \n",
    "        \n"
   ]
  },
  {
   "cell_type": "code",
   "execution_count": 52,
   "id": "65e98444",
   "metadata": {},
   "outputs": [
    {
     "name": "stdout",
     "output_type": "stream",
     "text": [
      "4\n",
      "2\n"
     ]
    }
   ],
   "source": [
    "# when we write my_linked_list = LinkedList(4)\n",
    "# it creates what up above we wrote with value of 4 to new_node\n",
    "linklist = LinkedList(4)\n",
    "linklist.append(2)\n",
    "print_list(linklist)\n"
   ]
  },
  {
   "cell_type": "code",
   "execution_count": 51,
   "id": "b08ca63c",
   "metadata": {},
   "outputs": [
    {
     "name": "stdout",
     "output_type": "stream",
     "text": [
      "4\n",
      "2\n",
      "2\n"
     ]
    },
    {
     "data": {
      "text/plain": [
       "<__main__.LinkedList at 0x1a81e05fd90>"
      ]
     },
     "execution_count": 51,
     "metadata": {},
     "output_type": "execute_result"
    }
   ],
   "source": []
  },
  {
   "cell_type": "code",
   "execution_count": null,
   "id": "c1c6af9b",
   "metadata": {},
   "outputs": [],
   "source": [
    "\n",
    "        "
   ]
  }
 ],
 "metadata": {
  "kernelspec": {
   "display_name": "Python 3 (ipykernel)",
   "language": "python",
   "name": "python3"
  },
  "language_info": {
   "codemirror_mode": {
    "name": "ipython",
    "version": 3
   },
   "file_extension": ".py",
   "mimetype": "text/x-python",
   "name": "python",
   "nbconvert_exporter": "python",
   "pygments_lexer": "ipython3",
   "version": "3.9.7"
  }
 },
 "nbformat": 4,
 "nbformat_minor": 5
}
