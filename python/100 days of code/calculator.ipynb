{
 "cells": [
  {
   "cell_type": "code",
   "execution_count": null,
   "metadata": {},
   "outputs": [],
   "source": [
    "from tkinter import *\n",
    " \n",
    "# Creating frame for calculator\n",
    "def iCalc(source, side):\n",
    "    storeObj = Frame(source, borderwidth=4, bd=4, bg=\"powder blue\")\n",
    "    storeObj.pack(side=side, expand =YES, fill =BOTH)\n",
    "    return storeObj\n",
    " \n",
    "# Creating Button\n",
    "def button(source, side, text, command=None):\n",
    "    storeObj = Button(source, text=text, command=command)\n",
    "    storeObj.pack(side=side, expand = YES, fill=BOTH)\n",
    "    return storeObj\n",
    " \n",
    "class app(Frame):\n",
    "    def __init__(self):\n",
    "        Frame.__init__(self)\n",
    "        self.option_add('*Font', 'arial 20 bold')\n",
    "        self.pack(expand = YES, fill =BOTH)\n",
    "        self.master.title('Calculator')\n",
    " \n",
    "# Start the GUI\n",
    "if __name__=='__main__':\n",
    " app().mainloop()\n",
    " \n",
    "for clearButton in ([\"C\"]):\n",
    "    erase = iCalc(self, TOP)\n",
    "        for ichar in clearButton:\n",
    "            button(erase, LEFT, ichar, lambda\n",
    "                storeObj=display, q=ichar: storeObj.set(''))"
   ]
  },
  {
   "cell_type": "code",
   "execution_count": null,
   "metadata": {},
   "outputs": [],
   "source": []
  }
 ],
 "metadata": {
  "interpreter": {
   "hash": "9740df59d162f88d2c1873b808c053c322d161770945844555dbc2478c68f331"
  },
  "kernelspec": {
   "display_name": "Python 3.9.7 ('base')",
   "language": "python",
   "name": "python3"
  },
  "language_info": {
   "codemirror_mode": {
    "name": "ipython",
    "version": 3
   },
   "file_extension": ".py",
   "mimetype": "text/x-python",
   "name": "python",
   "nbconvert_exporter": "python",
   "pygments_lexer": "ipython3",
   "version": "3.9.7"
  },
  "orig_nbformat": 4
 },
 "nbformat": 4,
 "nbformat_minor": 2
}
