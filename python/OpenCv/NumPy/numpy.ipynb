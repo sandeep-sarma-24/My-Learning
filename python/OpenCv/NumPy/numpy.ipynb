{
 "cells": [
  {
   "cell_type": "code",
   "execution_count": 2,
   "id": "804bcdd4",
   "metadata": {},
   "outputs": [],
   "source": [
    "import numpy as np "
   ]
  },
  {
   "cell_type": "code",
   "execution_count": 3,
   "id": "06df368e",
   "metadata": {},
   "outputs": [],
   "source": [
    "mylist = [1,2,3,4]"
   ]
  },
  {
   "cell_type": "code",
   "execution_count": 4,
   "id": "6ba029fe",
   "metadata": {},
   "outputs": [
    {
     "data": {
      "text/plain": [
       "list"
      ]
     },
     "execution_count": 4,
     "metadata": {},
     "output_type": "execute_result"
    }
   ],
   "source": [
    "type(mylist)"
   ]
  },
  {
   "cell_type": "code",
   "execution_count": 5,
   "id": "52e777e4",
   "metadata": {},
   "outputs": [],
   "source": [
    "arr = np.array(mylist)"
   ]
  },
  {
   "cell_type": "code",
   "execution_count": 6,
   "id": "36506379",
   "metadata": {},
   "outputs": [
    {
     "data": {
      "text/plain": [
       "array([1, 2, 3, 4])"
      ]
     },
     "execution_count": 6,
     "metadata": {},
     "output_type": "execute_result"
    }
   ],
   "source": [
    "arr"
   ]
  },
  {
   "cell_type": "code",
   "execution_count": 7,
   "id": "e2e52d1f",
   "metadata": {},
   "outputs": [
    {
     "data": {
      "text/plain": [
       "numpy.ndarray"
      ]
     },
     "execution_count": 7,
     "metadata": {},
     "output_type": "execute_result"
    }
   ],
   "source": [
    "type(arr)"
   ]
  },
  {
   "cell_type": "code",
   "execution_count": 8,
   "id": "52fe93a9",
   "metadata": {},
   "outputs": [
    {
     "data": {
      "text/plain": [
       "array([0, 2, 4, 6, 8])"
      ]
     },
     "execution_count": 8,
     "metadata": {},
     "output_type": "execute_result"
    }
   ],
   "source": [
    "np.arange(0,10,2) #arange(start,end,step)"
   ]
  },
  {
   "cell_type": "code",
   "execution_count": 9,
   "id": "111f3ec1",
   "metadata": {},
   "outputs": [
    {
     "data": {
      "text/plain": [
       "array([[0., 0., 0., 0., 0.],\n",
       "       [0., 0., 0., 0., 0.],\n",
       "       [0., 0., 0., 0., 0.],\n",
       "       [0., 0., 0., 0., 0.],\n",
       "       [0., 0., 0., 0., 0.],\n",
       "       [0., 0., 0., 0., 0.],\n",
       "       [0., 0., 0., 0., 0.],\n",
       "       [0., 0., 0., 0., 0.],\n",
       "       [0., 0., 0., 0., 0.],\n",
       "       [0., 0., 0., 0., 0.]])"
      ]
     },
     "execution_count": 9,
     "metadata": {},
     "output_type": "execute_result"
    }
   ],
   "source": [
    "np.zeros(shape=(10,5)) # shape(rows ,columns)"
   ]
  },
  {
   "cell_type": "code",
   "execution_count": 13,
   "id": "c0867742",
   "metadata": {},
   "outputs": [
    {
     "ename": "SyntaxError",
     "evalue": "invalid syntax (1930585179.py, line 1)",
     "output_type": "error",
     "traceback": [
      "\u001b[1;36m  Cell \u001b[1;32mIn [13], line 1\u001b[1;36m\u001b[0m\n\u001b[1;33m    np.(shape=(10,5)) = 2\u001b[0m\n\u001b[1;37m       ^\u001b[0m\n\u001b[1;31mSyntaxError\u001b[0m\u001b[1;31m:\u001b[0m invalid syntax\n"
     ]
    }
   ],
   "source": [
    "np.(shape=(10,5)) = 2"
   ]
  },
  {
   "cell_type": "code",
   "execution_count": null,
   "id": "9c01fcc3",
   "metadata": {},
   "outputs": [],
   "source": [
    "type(0)"
   ]
  },
  {
   "cell_type": "code",
   "execution_count": null,
   "id": "7efa85ab",
   "metadata": {},
   "outputs": [],
   "source": [
    "type(0.)"
   ]
  },
  {
   "cell_type": "code",
   "execution_count": null,
   "id": "e1db9a5e",
   "metadata": {},
   "outputs": [],
   "source": [
    "np.ones((2,4))"
   ]
  },
  {
   "cell_type": "code",
   "execution_count": null,
   "id": "44cfe745",
   "metadata": {},
   "outputs": [],
   "source": [
    "np.random.seed(101)\n",
    "arr1 = np.random.randint(0,100,10) # creates a array of random integers from (0 to 100)"
   ]
  },
  {
   "cell_type": "code",
   "execution_count": null,
   "id": "dd1c825b",
   "metadata": {},
   "outputs": [],
   "source": [
    "arr1"
   ]
  },
  {
   "cell_type": "code",
   "execution_count": null,
   "id": "2337b4e9",
   "metadata": {},
   "outputs": [],
   "source": [
    "arr1.max() # returns the max value of arr1"
   ]
  },
  {
   "cell_type": "code",
   "execution_count": null,
   "id": "f6978679",
   "metadata": {},
   "outputs": [],
   "source": [
    "arr1.min() # returns the min value of arr1"
   ]
  },
  {
   "cell_type": "code",
   "execution_count": null,
   "id": "ee6347d7",
   "metadata": {},
   "outputs": [],
   "source": [
    "arr1.argmax() # returns the index location of the max value. "
   ]
  },
  {
   "cell_type": "code",
   "execution_count": null,
   "id": "22a69d43",
   "metadata": {},
   "outputs": [],
   "source": [
    "arr1.mean() # returns the mean value of arr1"
   ]
  },
  {
   "cell_type": "code",
   "execution_count": null,
   "id": "ca81f1b0",
   "metadata": {},
   "outputs": [],
   "source": [
    "arr1.shape # returns the shape of the arr1 "
   ]
  },
  {
   "cell_type": "code",
   "execution_count": null,
   "id": "dea3c73d",
   "metadata": {},
   "outputs": [],
   "source": [
    "arr1.reshape((5,2))"
   ]
  },
  {
   "cell_type": "code",
   "execution_count": null,
   "id": "0fdf82c1",
   "metadata": {},
   "outputs": [],
   "source": [
    "mat = np.arange(0,100).reshape(10,10)"
   ]
  },
  {
   "cell_type": "code",
   "execution_count": null,
   "id": "09120c94",
   "metadata": {},
   "outputs": [],
   "source": [
    "mat"
   ]
  },
  {
   "cell_type": "code",
   "execution_count": null,
   "id": "acfca979",
   "metadata": {},
   "outputs": [],
   "source": [
    "row = 7\n",
    "col = 7\n",
    "mat[row,col]"
   ]
  },
  {
   "cell_type": "code",
   "execution_count": null,
   "id": "d3dab768",
   "metadata": {},
   "outputs": [],
   "source": [
    "mat[:,1] # numbers with ending 1 in unit's digit"
   ]
  },
  {
   "cell_type": "code",
   "execution_count": null,
   "id": "8cecae9a",
   "metadata": {},
   "outputs": [],
   "source": [
    "mat[:1] # from 0 to 10"
   ]
  },
  {
   "cell_type": "code",
   "execution_count": null,
   "id": "fafc71a3",
   "metadata": {},
   "outputs": [],
   "source": [
    "mat[:2] # from 0 to 20"
   ]
  },
  {
   "cell_type": "code",
   "execution_count": null,
   "id": "903891c7",
   "metadata": {},
   "outputs": [],
   "source": [
    "mat[1:4] # from 10 to 40"
   ]
  },
  {
   "cell_type": "code",
   "execution_count": null,
   "id": "3af0b6aa",
   "metadata": {},
   "outputs": [],
   "source": [
    "mat[2:5] # from 20 to 50 "
   ]
  },
  {
   "cell_type": "code",
   "execution_count": null,
   "id": "4ca74fab",
   "metadata": {},
   "outputs": [],
   "source": [
    "mat[:,5] # numbers with ending 5 in unit's digit"
   ]
  },
  {
   "cell_type": "code",
   "execution_count": null,
   "id": "aec1d661",
   "metadata": {},
   "outputs": [],
   "source": [
    "mat[0:3 , 0:5] # row = 3 and columns = 5 "
   ]
  },
  {
   "cell_type": "code",
   "execution_count": null,
   "id": "7690e1c7",
   "metadata": {},
   "outputs": [],
   "source": [
    "mat[0:3 , 0:5] = 0 # reassigning the values from (0 to 3rd row and 0 to 5th column) to 0"
   ]
  },
  {
   "cell_type": "code",
   "execution_count": null,
   "id": "3f8d0111",
   "metadata": {},
   "outputs": [],
   "source": [
    "mat"
   ]
  },
  {
   "cell_type": "code",
   "execution_count": null,
   "id": "6ecca4f1",
   "metadata": {},
   "outputs": [],
   "source": [
    "new_mat = mat.copy() # creates a new copy of mat to the new_mat matrix"
   ]
  },
  {
   "cell_type": "code",
   "execution_count": null,
   "id": "35354432",
   "metadata": {},
   "outputs": [],
   "source": [
    "new_mat[0:6 , :] = 999 # reassigning the values to 999 from 0 - 59"
   ]
  },
  {
   "cell_type": "code",
   "execution_count": null,
   "id": "53175f84",
   "metadata": {},
   "outputs": [],
   "source": [
    "new_mat"
   ]
  }
 ],
 "metadata": {
  "kernelspec": {
   "display_name": "Python 3 (ipykernel)",
   "language": "python",
   "name": "python3"
  },
  "language_info": {
   "codemirror_mode": {
    "name": "ipython",
    "version": 3
   },
   "file_extension": ".py",
   "mimetype": "text/x-python",
   "name": "python",
   "nbconvert_exporter": "python",
   "pygments_lexer": "ipython3",
   "version": "3.10.5"
  },
  "vscode": {
   "interpreter": {
    "hash": "369f2c481f4da34e4445cda3fffd2e751bd1c4d706f27375911949ba6bb62e1c"
   }
  }
 },
 "nbformat": 4,
 "nbformat_minor": 5
}
